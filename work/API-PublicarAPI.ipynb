{
 "cells": [
  {
   "cell_type": "code",
   "execution_count": 1,
   "metadata": {},
   "outputs": [],
   "source": [
    "# import das bibliotecas\n",
    "import psycopg2\n",
    "\n",
    "import flask\n",
    "from flask import Flask\n",
    "from flask import request, jsonify, send_file, abort\n",
    "\n",
    "import numpy as np\n",
    "import pandas as pd\n",
    "import pandas.io.sql as sqlio\n",
    "\n",
    "import pm4py\n",
    "from pm4py.objects.log.util import dataframe_utils\n",
    "from pm4py.objects.conversion.log import converter as log_converter\n",
    "from pm4py.algo.discovery.dfg import algorithm as dfg_discovery\n",
    "from pm4py.visualization.dfg import visualizer as dfg_visualization"
   ]
  },
  {
   "cell_type": "code",
   "execution_count": 2,
   "metadata": {},
   "outputs": [],
   "source": [
    "db_host = \"postgres\"\n",
    "db_port = \"5432\"\n",
    "db_name = \"dbinovacnj\"\n",
    "db_user = \"inovacnj\"\n",
    "db_pass = \"inovacnj@admin\""
   ]
  },
  {
   "cell_type": "code",
   "execution_count": 3,
   "metadata": {},
   "outputs": [],
   "source": [
    "def gerar_modelo_pm_from_params(codtribunal, grau, natureza, codclasse, dtinicio, dtfim):\n",
    "    conn = psycopg2.connect(host=db_host, port=db_port, database=db_name, user=db_user, password=db_pass)\n",
    "    \n",
    "    qry = \"SELECT npu, fase || ' : ' || descmovimento as atividade, mov_dtmov \"\n",
    "    qry+= \"FROM inovacnj.fat_movimentos_te \"\n",
    "    qry+= \"WHERE (1=1) \"\n",
    "    if codtribunal != None :\n",
    "        qry+= \"AND codtribunal = '\" + codtribunal + \"' \"\n",
    "    if grau != None :\n",
    "        qry+= \"AND grau = '\" + grau + \"' \"\n",
    "    if natureza != None :\n",
    "        qry+= \"AND natureza = '\" + natureza + \"' \"\n",
    "    if codclasse != None :\n",
    "        qry+= \"AND codclasse = \" + str(codclasse) + \" \"\n",
    "        \n",
    "    if dtinicio != None and dtfim != None:\n",
    "        qry+= \"AND mov_dtmov BETWEEN to_timestamp('\" + dtinicio + \"', 'yyyy-MM-dd') AND to_timestamp('\" + dtfim + \"', 'yyyy-MM-dd') \"\n",
    "        \n",
    "    qry+= \"ORDER BY mov_dtmov ASC \"\n",
    "    \n",
    "    df_logeventos_pd = sqlio.read_sql_query(qry, conn)\n",
    "    \n",
    "    gviz = None\n",
    "    \n",
    "    if df_logeventos_pd.size > 0 :\n",
    "    \n",
    "        dataframe = pm4py.format_dataframe(df_logeventos_pd, case_id='npu', activity_key='atividade', timestamp_key='mov_dtmov')\n",
    "        eventLog = pm4py.convert_to_event_log(dataframe)\n",
    "\n",
    "        parameters = {dfg_visualization.Variants.FREQUENCY.value.Parameters.FORMAT: \"png\"}\n",
    "        dfg = dfg_discovery.apply(eventLog, variant=dfg_discovery.Variants.PERFORMANCE)\n",
    "        gviz = dfg_visualization.apply(dfg, log=eventLog, variant=dfg_visualization.Variants.PERFORMANCE, parameters=parameters)\n",
    "    \n",
    "    return gviz"
   ]
  },
  {
   "cell_type": "code",
   "execution_count": 4,
   "metadata": {},
   "outputs": [
    {
     "name": "stdout",
     "output_type": "stream",
     "text": [
      "sem dados\n"
     ]
    }
   ],
   "source": [
    "gviz = gerar_modelo_pm_from_params('TJAL', None, 'CIVEL', None, None, None)\n",
    "if gviz != None:\n",
    "    dfg_visualization.view(gviz)\n",
    "else:\n",
    "    print(\"sem dados\")"
   ]
  },
  {
   "cell_type": "code",
   "execution_count": 5,
   "metadata": {},
   "outputs": [],
   "source": [
    "import random\n",
    "import string\n",
    "\n",
    "def get_random_string(length):\n",
    "    # Random string with the combination of lower and upper case\n",
    "    letters = string.ascii_letters\n",
    "    result_str = ''.join(random.choice(letters) for i in range(length))\n",
    "    return result_str"
   ]
  },
  {
   "cell_type": "code",
   "execution_count": null,
   "metadata": {},
   "outputs": [
    {
     "name": "stdout",
     "output_type": "stream",
     "text": [
      " * Serving Flask app \"__main__\" (lazy loading)\n",
      " * Environment: production\n",
      "\u001b[31m   WARNING: This is a development server. Do not use it in a production deployment.\u001b[0m\n",
      "\u001b[2m   Use a production WSGI server instead.\u001b[0m\n",
      " * Debug mode: off\n"
     ]
    },
    {
     "name": "stderr",
     "output_type": "stream",
     "text": [
      " * Running on http://0.0.0.0:8080/ (Press CTRL+C to quit)\n",
      "172.18.0.1 - - [20/Oct/2020 16:41:36] \"\u001b[37mGET /api/v1/tipo-justica HTTP/1.1\u001b[0m\" 200 -\n",
      "172.18.0.1 - - [20/Oct/2020 16:41:36] \"\u001b[37mGET /api/v1/tribunal HTTP/1.1\u001b[0m\" 200 -\n",
      "172.18.0.1 - - [20/Oct/2020 16:41:36] \"\u001b[37mGET /api/v1/natureza HTTP/1.1\u001b[0m\" 200 -\n",
      "172.18.0.1 - - [20/Oct/2020 16:41:36] \"\u001b[37mGET /api/v1/classe HTTP/1.1\u001b[0m\" 200 -\n",
      "172.18.0.1 - - [20/Oct/2020 16:42:17] \"\u001b[37mGET /api/v1/tribunal HTTP/1.1\u001b[0m\" 200 -\n",
      "172.18.0.1 - - [20/Oct/2020 16:42:17] \"\u001b[37mGET /api/v1/natureza HTTP/1.1\u001b[0m\" 200 -\n",
      "172.18.0.1 - - [20/Oct/2020 16:42:17] \"\u001b[37mGET /api/v1/tipo-justica HTTP/1.1\u001b[0m\" 200 -\n",
      "172.18.0.1 - - [20/Oct/2020 16:42:17] \"\u001b[37mGET /api/v1/classe HTTP/1.1\u001b[0m\" 200 -\n",
      "172.18.0.1 - - [20/Oct/2020 16:43:09] \"\u001b[37mGET /api/v1/tipo-justica HTTP/1.1\u001b[0m\" 200 -\n",
      "172.18.0.1 - - [20/Oct/2020 16:43:09] \"\u001b[37mGET /api/v1/tribunal HTTP/1.1\u001b[0m\" 200 -\n",
      "172.18.0.1 - - [20/Oct/2020 16:43:09] \"\u001b[37mGET /api/v1/classe HTTP/1.1\u001b[0m\" 200 -\n",
      "172.18.0.1 - - [20/Oct/2020 16:43:09] \"\u001b[37mGET /api/v1/natureza HTTP/1.1\u001b[0m\" 200 -\n",
      "172.18.0.1 - - [20/Oct/2020 16:43:17] \"\u001b[33mGET /api/v1/gerar-modelo-pm?codtribunal=TJAL&natureza=CIVEL HTTP/1.1\u001b[0m\" 404 -\n"
     ]
    },
    {
     "name": "stdout",
     "output_type": "stream",
     "text": [
      "sem dados\n"
     ]
    },
    {
     "name": "stderr",
     "output_type": "stream",
     "text": [
      "172.18.0.1 - - [20/Oct/2020 16:44:07] \"\u001b[37mGET /api/v1/tribunal HTTP/1.1\u001b[0m\" 200 -\n",
      "172.18.0.1 - - [20/Oct/2020 16:44:07] \"\u001b[37mGET /api/v1/natureza HTTP/1.1\u001b[0m\" 200 -\n",
      "172.18.0.1 - - [20/Oct/2020 16:44:07] \"\u001b[37mGET /api/v1/tipo-justica HTTP/1.1\u001b[0m\" 200 -\n",
      "172.18.0.1 - - [20/Oct/2020 16:44:07] \"\u001b[37mGET /api/v1/classe HTTP/1.1\u001b[0m\" 200 -\n",
      "172.18.0.1 - - [20/Oct/2020 16:44:07] \"\u001b[37mGET /api/v1/tipo-justica HTTP/1.1\u001b[0m\" 200 -\n",
      "172.18.0.1 - - [20/Oct/2020 16:44:07] \"\u001b[37mGET /api/v1/tribunal HTTP/1.1\u001b[0m\" 200 -\n",
      "172.18.0.1 - - [20/Oct/2020 16:44:07] \"\u001b[37mGET /api/v1/classe HTTP/1.1\u001b[0m\" 200 -\n",
      "172.18.0.1 - - [20/Oct/2020 16:44:07] \"\u001b[37mGET /api/v1/natureza HTTP/1.1\u001b[0m\" 200 -\n",
      "172.18.0.1 - - [20/Oct/2020 16:44:18] \"\u001b[33mGET /api/v1/gerar-modelo-pm?codtribunal=TJAL&natureza=CIVEL HTTP/1.1\u001b[0m\" 404 -\n"
     ]
    },
    {
     "name": "stdout",
     "output_type": "stream",
     "text": [
      "sem dados\n"
     ]
    },
    {
     "name": "stderr",
     "output_type": "stream",
     "text": [
      "172.18.0.1 - - [20/Oct/2020 16:48:53] \"\u001b[37mGET /api/v1/natureza HTTP/1.1\u001b[0m\" 200 -\n",
      "172.18.0.1 - - [20/Oct/2020 16:48:53] \"\u001b[37mGET /api/v1/tipo-justica HTTP/1.1\u001b[0m\" 200 -\n",
      "172.18.0.1 - - [20/Oct/2020 16:48:53] \"\u001b[37mGET /api/v1/classe HTTP/1.1\u001b[0m\" 200 -\n",
      "172.18.0.1 - - [20/Oct/2020 16:48:53] \"\u001b[37mGET /api/v1/tribunal HTTP/1.1\u001b[0m\" 200 -\n",
      "172.18.0.1 - - [20/Oct/2020 16:48:53] \"\u001b[37mGET /api/v1/tribunal HTTP/1.1\u001b[0m\" 200 -\n",
      "172.18.0.1 - - [20/Oct/2020 16:48:53] \"\u001b[37mGET /api/v1/tipo-justica HTTP/1.1\u001b[0m\" 200 -\n",
      "172.18.0.1 - - [20/Oct/2020 16:48:53] \"\u001b[37mGET /api/v1/natureza HTTP/1.1\u001b[0m\" 200 -\n",
      "172.18.0.1 - - [20/Oct/2020 16:48:53] \"\u001b[37mGET /api/v1/classe HTTP/1.1\u001b[0m\" 200 -\n",
      "172.18.0.1 - - [20/Oct/2020 16:50:44] \"\u001b[37mGET /api/v1/tipo-justica HTTP/1.1\u001b[0m\" 200 -\n",
      "172.18.0.1 - - [20/Oct/2020 16:50:44] \"\u001b[37mGET /api/v1/tribunal HTTP/1.1\u001b[0m\" 200 -\n",
      "172.18.0.1 - - [20/Oct/2020 16:50:44] \"\u001b[37mGET /api/v1/natureza HTTP/1.1\u001b[0m\" 200 -\n",
      "172.18.0.1 - - [20/Oct/2020 16:50:44] \"\u001b[37mGET /api/v1/classe HTTP/1.1\u001b[0m\" 200 -\n",
      "172.18.0.1 - - [20/Oct/2020 16:50:45] \"\u001b[37mGET /api/v1/tipo-justica HTTP/1.1\u001b[0m\" 200 -\n",
      "172.18.0.1 - - [20/Oct/2020 16:50:45] \"\u001b[37mGET /api/v1/natureza HTTP/1.1\u001b[0m\" 200 -\n",
      "172.18.0.1 - - [20/Oct/2020 16:50:45] \"\u001b[37mGET /api/v1/tribunal HTTP/1.1\u001b[0m\" 200 -\n",
      "172.18.0.1 - - [20/Oct/2020 16:50:45] \"\u001b[37mGET /api/v1/classe HTTP/1.1\u001b[0m\" 200 -\n",
      "172.18.0.1 - - [20/Oct/2020 16:50:56] \"\u001b[33mGET /api/v1/gerar-modelo-pm?codtribunal=TJAL&natureza=CIVEL HTTP/1.1\u001b[0m\" 404 -\n"
     ]
    },
    {
     "name": "stdout",
     "output_type": "stream",
     "text": [
      "sem dados\n"
     ]
    },
    {
     "name": "stderr",
     "output_type": "stream",
     "text": [
      "172.18.0.1 - - [20/Oct/2020 16:52:55] \"\u001b[37mGET /api/v1/natureza HTTP/1.1\u001b[0m\" 200 -\n",
      "172.18.0.1 - - [20/Oct/2020 16:52:55] \"\u001b[37mGET /api/v1/tribunal HTTP/1.1\u001b[0m\" 200 -\n",
      "172.18.0.1 - - [20/Oct/2020 16:52:55] \"\u001b[37mGET /api/v1/tipo-justica HTTP/1.1\u001b[0m\" 200 -\n",
      "172.18.0.1 - - [20/Oct/2020 16:52:55] \"\u001b[37mGET /api/v1/classe HTTP/1.1\u001b[0m\" 200 -\n",
      "172.18.0.1 - - [20/Oct/2020 16:52:56] \"\u001b[37mGET /api/v1/tipo-justica HTTP/1.1\u001b[0m\" 200 -\n",
      "172.18.0.1 - - [20/Oct/2020 16:52:56] \"\u001b[37mGET /api/v1/tribunal HTTP/1.1\u001b[0m\" 200 -\n",
      "172.18.0.1 - - [20/Oct/2020 16:52:56] \"\u001b[37mGET /api/v1/natureza HTTP/1.1\u001b[0m\" 200 -\n",
      "172.18.0.1 - - [20/Oct/2020 16:52:56] \"\u001b[37mGET /api/v1/classe HTTP/1.1\u001b[0m\" 200 -\n",
      "172.18.0.1 - - [20/Oct/2020 16:53:13] \"\u001b[33mGET /api/v1/gerar-modelo-pm?codtribunal=TJAL&natureza=CIVEL HTTP/1.1\u001b[0m\" 404 -\n"
     ]
    },
    {
     "name": "stdout",
     "output_type": "stream",
     "text": [
      "sem dados\n"
     ]
    },
    {
     "name": "stderr",
     "output_type": "stream",
     "text": [
      "172.18.0.1 - - [20/Oct/2020 16:53:51] \"\u001b[37mGET /api/v1/tribunal HTTP/1.1\u001b[0m\" 200 -\n",
      "172.18.0.1 - - [20/Oct/2020 16:53:51] \"\u001b[37mGET /api/v1/tipo-justica HTTP/1.1\u001b[0m\" 200 -\n",
      "172.18.0.1 - - [20/Oct/2020 16:53:51] \"\u001b[37mGET /api/v1/natureza HTTP/1.1\u001b[0m\" 200 -\n",
      "172.18.0.1 - - [20/Oct/2020 16:53:51] \"\u001b[37mGET /api/v1/classe HTTP/1.1\u001b[0m\" 200 -\n",
      "172.18.0.1 - - [20/Oct/2020 16:53:51] \"\u001b[37mGET /api/v1/tipo-justica HTTP/1.1\u001b[0m\" 200 -\n",
      "172.18.0.1 - - [20/Oct/2020 16:53:51] \"\u001b[37mGET /api/v1/tribunal HTTP/1.1\u001b[0m\" 200 -\n",
      "172.18.0.1 - - [20/Oct/2020 16:53:51] \"\u001b[37mGET /api/v1/natureza HTTP/1.1\u001b[0m\" 200 -\n",
      "172.18.0.1 - - [20/Oct/2020 16:53:51] \"\u001b[37mGET /api/v1/classe HTTP/1.1\u001b[0m\" 200 -\n",
      "172.18.0.1 - - [20/Oct/2020 16:54:00] \"\u001b[33mGET /api/v1/gerar-modelo-pm?codtribunal=TJAL&natureza=CIVEL HTTP/1.1\u001b[0m\" 404 -\n"
     ]
    },
    {
     "name": "stdout",
     "output_type": "stream",
     "text": [
      "sem dados\n"
     ]
    },
    {
     "name": "stderr",
     "output_type": "stream",
     "text": [
      "172.18.0.1 - - [20/Oct/2020 16:54:42] \"\u001b[37mGET /api/v1/tribunal HTTP/1.1\u001b[0m\" 200 -\n",
      "172.18.0.1 - - [20/Oct/2020 16:54:42] \"\u001b[37mGET /api/v1/tipo-justica HTTP/1.1\u001b[0m\" 200 -\n",
      "172.18.0.1 - - [20/Oct/2020 16:54:42] \"\u001b[37mGET /api/v1/natureza HTTP/1.1\u001b[0m\" 200 -\n",
      "172.18.0.1 - - [20/Oct/2020 16:54:42] \"\u001b[37mGET /api/v1/classe HTTP/1.1\u001b[0m\" 200 -\n",
      "172.18.0.1 - - [20/Oct/2020 16:54:43] \"\u001b[37mGET /api/v1/tipo-justica HTTP/1.1\u001b[0m\" 200 -\n",
      "172.18.0.1 - - [20/Oct/2020 16:54:43] \"\u001b[37mGET /api/v1/tribunal HTTP/1.1\u001b[0m\" 200 -\n",
      "172.18.0.1 - - [20/Oct/2020 16:54:43] \"\u001b[37mGET /api/v1/natureza HTTP/1.1\u001b[0m\" 200 -\n",
      "172.18.0.1 - - [20/Oct/2020 16:54:43] \"\u001b[37mGET /api/v1/classe HTTP/1.1\u001b[0m\" 200 -\n",
      "172.18.0.1 - - [20/Oct/2020 16:54:54] \"\u001b[37mGET /api/v1/tipo-justica HTTP/1.1\u001b[0m\" 200 -\n",
      "172.18.0.1 - - [20/Oct/2020 16:54:54] \"\u001b[37mGET /api/v1/natureza HTTP/1.1\u001b[0m\" 200 -\n",
      "172.18.0.1 - - [20/Oct/2020 16:54:54] \"\u001b[37mGET /api/v1/tribunal HTTP/1.1\u001b[0m\" 200 -\n",
      "172.18.0.1 - - [20/Oct/2020 16:54:54] \"\u001b[37mGET /api/v1/classe HTTP/1.1\u001b[0m\" 200 -\n",
      "172.18.0.1 - - [20/Oct/2020 16:55:01] \"\u001b[33mGET /api/v1/gerar-modelo-pm?codtribunal=TJAL&natureza=CIVEL HTTP/1.1\u001b[0m\" 404 -\n"
     ]
    },
    {
     "name": "stdout",
     "output_type": "stream",
     "text": [
      "sem dados\n"
     ]
    },
    {
     "name": "stderr",
     "output_type": "stream",
     "text": [
      "172.18.0.1 - - [20/Oct/2020 16:56:33] \"\u001b[37mGET /api/v1/tipo-justica HTTP/1.1\u001b[0m\" 200 -\n",
      "172.18.0.1 - - [20/Oct/2020 16:56:33] \"\u001b[37mGET /api/v1/tribunal HTTP/1.1\u001b[0m\" 200 -\n",
      "172.18.0.1 - - [20/Oct/2020 16:56:33] \"\u001b[37mGET /api/v1/natureza HTTP/1.1\u001b[0m\" 200 -\n",
      "172.18.0.1 - - [20/Oct/2020 16:56:33] \"\u001b[37mGET /api/v1/classe HTTP/1.1\u001b[0m\" 200 -\n",
      "172.18.0.1 - - [20/Oct/2020 16:56:37] \"\u001b[37mGET /api/v1/tipo-justica HTTP/1.1\u001b[0m\" 200 -\n",
      "172.18.0.1 - - [20/Oct/2020 16:56:37] \"\u001b[37mGET /api/v1/classe HTTP/1.1\u001b[0m\" 200 -\n",
      "172.18.0.1 - - [20/Oct/2020 16:56:37] \"\u001b[37mGET /api/v1/tribunal HTTP/1.1\u001b[0m\" 200 -\n",
      "172.18.0.1 - - [20/Oct/2020 16:56:37] \"\u001b[37mGET /api/v1/natureza HTTP/1.1\u001b[0m\" 200 -\n",
      "172.18.0.1 - - [20/Oct/2020 16:56:38] \"\u001b[37mGET /api/v1/tipo-justica HTTP/1.1\u001b[0m\" 200 -\n",
      "172.18.0.1 - - [20/Oct/2020 16:56:38] \"\u001b[37mGET /api/v1/classe HTTP/1.1\u001b[0m\" 200 -\n",
      "172.18.0.1 - - [20/Oct/2020 16:56:38] \"\u001b[37mGET /api/v1/tribunal HTTP/1.1\u001b[0m\" 200 -\n",
      "172.18.0.1 - - [20/Oct/2020 16:56:38] \"\u001b[37mGET /api/v1/natureza HTTP/1.1\u001b[0m\" 200 -\n",
      "172.18.0.1 - - [20/Oct/2020 16:57:30] \"\u001b[37mGET /api/v1/tipo-justica HTTP/1.1\u001b[0m\" 200 -\n",
      "172.18.0.1 - - [20/Oct/2020 16:57:30] \"\u001b[37mGET /api/v1/natureza HTTP/1.1\u001b[0m\" 200 -\n",
      "172.18.0.1 - - [20/Oct/2020 16:57:30] \"\u001b[37mGET /api/v1/tribunal HTTP/1.1\u001b[0m\" 200 -\n",
      "172.18.0.1 - - [20/Oct/2020 16:57:30] \"\u001b[37mGET /api/v1/classe HTTP/1.1\u001b[0m\" 200 -\n",
      "172.18.0.1 - - [20/Oct/2020 16:57:31] \"\u001b[37mGET /api/v1/tipo-justica HTTP/1.1\u001b[0m\" 200 -\n",
      "172.18.0.1 - - [20/Oct/2020 16:57:31] \"\u001b[37mGET /api/v1/tribunal HTTP/1.1\u001b[0m\" 200 -\n",
      "172.18.0.1 - - [20/Oct/2020 16:57:31] \"\u001b[37mGET /api/v1/natureza HTTP/1.1\u001b[0m\" 200 -\n",
      "172.18.0.1 - - [20/Oct/2020 16:57:31] \"\u001b[37mGET /api/v1/classe HTTP/1.1\u001b[0m\" 200 -\n",
      "WARNING:root:please convert the dataframe for advanced process mining applications. log = pm4py.convert_to_event_log(df)\n",
      "172.18.0.1 - - [20/Oct/2020 16:58:16] \"\u001b[37mGET /api/v1/gerar-modelo-pm?codtribunal=TJAC&natureza=CIVEL HTTP/1.1\u001b[0m\" 200 -\n",
      "INFO:werkzeug:172.18.0.1 - - [20/Oct/2020 16:58:16] \"\u001b[37mGET /api/v1/gerar-modelo-pm?codtribunal=TJAC&natureza=CIVEL HTTP/1.1\u001b[0m\" 200 -\n",
      "WARNING:root:please convert the dataframe for advanced process mining applications. log = pm4py.convert_to_event_log(df)\n",
      "172.18.0.1 - - [20/Oct/2020 16:58:23] \"\u001b[37mGET /api/v1/gerar-modelo-pm?codtribunal=TJBA&natureza=CIVEL HTTP/1.1\u001b[0m\" 200 -\n",
      "INFO:werkzeug:172.18.0.1 - - [20/Oct/2020 16:58:23] \"\u001b[37mGET /api/v1/gerar-modelo-pm?codtribunal=TJBA&natureza=CIVEL HTTP/1.1\u001b[0m\" 200 -\n",
      "WARNING:root:please convert the dataframe for advanced process mining applications. log = pm4py.convert_to_event_log(df)\n",
      "172.18.0.1 - - [20/Oct/2020 16:58:33] \"\u001b[37mGET /api/v1/gerar-modelo-pm?codtribunal=TJCE&natureza=CIVEL HTTP/1.1\u001b[0m\" 200 -\n",
      "INFO:werkzeug:172.18.0.1 - - [20/Oct/2020 16:58:33] \"\u001b[37mGET /api/v1/gerar-modelo-pm?codtribunal=TJCE&natureza=CIVEL HTTP/1.1\u001b[0m\" 200 -\n",
      "WARNING:root:please convert the dataframe for advanced process mining applications. log = pm4py.convert_to_event_log(df)\n",
      "172.18.0.1 - - [20/Oct/2020 16:58:43] \"\u001b[37mGET /api/v1/gerar-modelo-pm?codtribunal=TJDFT&natureza=CIVEL HTTP/1.1\u001b[0m\" 200 -\n",
      "INFO:werkzeug:172.18.0.1 - - [20/Oct/2020 16:58:43] \"\u001b[37mGET /api/v1/gerar-modelo-pm?codtribunal=TJDFT&natureza=CIVEL HTTP/1.1\u001b[0m\" 200 -\n",
      "172.18.0.1 - - [20/Oct/2020 16:59:28] \"\u001b[37mGET /api/v1/tipo-justica HTTP/1.1\u001b[0m\" 200 -\n",
      "INFO:werkzeug:172.18.0.1 - - [20/Oct/2020 16:59:28] \"\u001b[37mGET /api/v1/tipo-justica HTTP/1.1\u001b[0m\" 200 -\n",
      "172.18.0.1 - - [20/Oct/2020 16:59:28] \"\u001b[37mGET /api/v1/natureza HTTP/1.1\u001b[0m\" 200 -\n",
      "172.18.0.1 - - [20/Oct/2020 16:59:28] \"\u001b[37mGET /api/v1/tribunal HTTP/1.1\u001b[0m\" 200 -\n",
      "INFO:werkzeug:172.18.0.1 - - [20/Oct/2020 16:59:28] \"\u001b[37mGET /api/v1/natureza HTTP/1.1\u001b[0m\" 200 -\n",
      "INFO:werkzeug:172.18.0.1 - - [20/Oct/2020 16:59:28] \"\u001b[37mGET /api/v1/tribunal HTTP/1.1\u001b[0m\" 200 -\n",
      "172.18.0.1 - - [20/Oct/2020 16:59:28] \"\u001b[37mGET /api/v1/classe HTTP/1.1\u001b[0m\" 200 -\n",
      "INFO:werkzeug:172.18.0.1 - - [20/Oct/2020 16:59:28] \"\u001b[37mGET /api/v1/classe HTTP/1.1\u001b[0m\" 200 -\n",
      "172.18.0.1 - - [20/Oct/2020 16:59:29] \"\u001b[37mGET /api/v1/tribunal HTTP/1.1\u001b[0m\" 200 -\n",
      "INFO:werkzeug:172.18.0.1 - - [20/Oct/2020 16:59:29] \"\u001b[37mGET /api/v1/tribunal HTTP/1.1\u001b[0m\" 200 -\n",
      "172.18.0.1 - - [20/Oct/2020 16:59:29] \"\u001b[37mGET /api/v1/tipo-justica HTTP/1.1\u001b[0m\" 200 -\n",
      "INFO:werkzeug:172.18.0.1 - - [20/Oct/2020 16:59:29] \"\u001b[37mGET /api/v1/tipo-justica HTTP/1.1\u001b[0m\" 200 -\n",
      "172.18.0.1 - - [20/Oct/2020 16:59:29] \"\u001b[37mGET /api/v1/natureza HTTP/1.1\u001b[0m\" 200 -\n",
      "INFO:werkzeug:172.18.0.1 - - [20/Oct/2020 16:59:29] \"\u001b[37mGET /api/v1/natureza HTTP/1.1\u001b[0m\" 200 -\n",
      "172.18.0.1 - - [20/Oct/2020 16:59:29] \"\u001b[37mGET /api/v1/classe HTTP/1.1\u001b[0m\" 200 -\n",
      "INFO:werkzeug:172.18.0.1 - - [20/Oct/2020 16:59:29] \"\u001b[37mGET /api/v1/classe HTTP/1.1\u001b[0m\" 200 -\n",
      "WARNING:root:please convert the dataframe for advanced process mining applications. log = pm4py.convert_to_event_log(df)\n",
      "172.18.0.1 - - [20/Oct/2020 16:59:54] \"\u001b[37mGET /api/v1/gerar-modelo-pm?codtribunal=TJAM&natureza=CIVEL HTTP/1.1\u001b[0m\" 200 -\n",
      "INFO:werkzeug:172.18.0.1 - - [20/Oct/2020 16:59:54] \"\u001b[37mGET /api/v1/gerar-modelo-pm?codtribunal=TJAM&natureza=CIVEL HTTP/1.1\u001b[0m\" 200 -\n",
      "WARNING:root:please convert the dataframe for advanced process mining applications. log = pm4py.convert_to_event_log(df)\n",
      "172.18.0.1 - - [20/Oct/2020 17:00:14] \"\u001b[37mGET /api/v1/gerar-modelo-pm?codtribunal=TJPE&natureza=CIVEL HTTP/1.1\u001b[0m\" 200 -\n",
      "INFO:werkzeug:172.18.0.1 - - [20/Oct/2020 17:00:14] \"\u001b[37mGET /api/v1/gerar-modelo-pm?codtribunal=TJPE&natureza=CIVEL HTTP/1.1\u001b[0m\" 200 -\n",
      "172.18.0.1 - - [20/Oct/2020 17:00:47] \"\u001b[37mGET /api/v1/tipo-justica HTTP/1.1\u001b[0m\" 200 -\n",
      "INFO:werkzeug:172.18.0.1 - - [20/Oct/2020 17:00:47] \"\u001b[37mGET /api/v1/tipo-justica HTTP/1.1\u001b[0m\" 200 -\n",
      "172.18.0.1 - - [20/Oct/2020 17:00:47] \"\u001b[37mGET /api/v1/natureza HTTP/1.1\u001b[0m\" 200 -\n",
      "172.18.0.1 - - [20/Oct/2020 17:00:47] \"\u001b[37mGET /api/v1/tribunal HTTP/1.1\u001b[0m\" 200 -\n",
      "INFO:werkzeug:172.18.0.1 - - [20/Oct/2020 17:00:47] \"\u001b[37mGET /api/v1/natureza HTTP/1.1\u001b[0m\" 200 -\n",
      "172.18.0.1 - - [20/Oct/2020 17:00:47] \"\u001b[37mGET /api/v1/classe HTTP/1.1\u001b[0m\" 200 -\n",
      "INFO:werkzeug:172.18.0.1 - - [20/Oct/2020 17:00:47] \"\u001b[37mGET /api/v1/tribunal HTTP/1.1\u001b[0m\" 200 -\n",
      "INFO:werkzeug:172.18.0.1 - - [20/Oct/2020 17:00:47] \"\u001b[37mGET /api/v1/classe HTTP/1.1\u001b[0m\" 200 -\n",
      "172.18.0.1 - - [20/Oct/2020 17:00:48] \"\u001b[37mGET /api/v1/tribunal HTTP/1.1\u001b[0m\" 200 -\n",
      "INFO:werkzeug:172.18.0.1 - - [20/Oct/2020 17:00:48] \"\u001b[37mGET /api/v1/tribunal HTTP/1.1\u001b[0m\" 200 -\n",
      "172.18.0.1 - - [20/Oct/2020 17:00:48] \"\u001b[37mGET /api/v1/tipo-justica HTTP/1.1\u001b[0m\" 200 -\n",
      "INFO:werkzeug:172.18.0.1 - - [20/Oct/2020 17:00:48] \"\u001b[37mGET /api/v1/tipo-justica HTTP/1.1\u001b[0m\" 200 -\n",
      "172.18.0.1 - - [20/Oct/2020 17:00:48] \"\u001b[37mGET /api/v1/natureza HTTP/1.1\u001b[0m\" 200 -\n",
      "INFO:werkzeug:172.18.0.1 - - [20/Oct/2020 17:00:48] \"\u001b[37mGET /api/v1/natureza HTTP/1.1\u001b[0m\" 200 -\n",
      "172.18.0.1 - - [20/Oct/2020 17:00:48] \"\u001b[37mGET /api/v1/classe HTTP/1.1\u001b[0m\" 200 -\n",
      "INFO:werkzeug:172.18.0.1 - - [20/Oct/2020 17:00:48] \"\u001b[37mGET /api/v1/classe HTTP/1.1\u001b[0m\" 200 -\n"
     ]
    }
   ],
   "source": [
    "app = Flask(__name__)\n",
    "\n",
    "@app.route('/api/v1/tipo-justica')\n",
    "def api_lista_tipojustica():\n",
    "    conn = psycopg2.connect(host=db_host, port=db_port, database=db_name, user=db_user, password=db_pass)\n",
    "    cur = conn.cursor()\n",
    "    \n",
    "    qry = \"SELECT DISTINCT tipo as cod, tipo as descricao \"\n",
    "    qry+= \"FROM inovacnj.tribunal\"\n",
    "    \n",
    "    cur.execute(qry)\n",
    "    lista = cur.fetchall()\n",
    "\n",
    "    return jsonify(lista)\n",
    "\n",
    "@app.route('/api/v1/porte')\n",
    "def api_lista_porte():\n",
    "    conn = psycopg2.connect(host=db_host, port=db_port, database=db_name, user=db_user, password=db_pass)\n",
    "    cur = conn.cursor()\n",
    "    \n",
    "    qry = \"SELECT DISTINCT porte as cod, porte as descricao \"\n",
    "    qry+= \"FROM inovacnj.tribunal\"\n",
    "    \n",
    "    cur.execute(qry)\n",
    "    lista = cur.fetchall()\n",
    "\n",
    "    return jsonify(lista)\n",
    "\n",
    "@app.route('/api/v1/tribunal')\n",
    "def api_lista_tribunal():\n",
    "    porte = request.args.get('porte')\n",
    "    tipo = request.args.get('tipo')\n",
    "    conn = psycopg2.connect(host=db_host, port=db_port, database=db_name, user=db_user, password=db_pass)\n",
    "    cur = conn.cursor()\n",
    "    \n",
    "    qry = \"SELECT cod, descricao, sigla, tipo, porte \"\n",
    "    qry+= \"FROM inovacnj.tribunal \"\n",
    "    qry+= \"WHERE (1=1) \"\n",
    "    if porte != None :\n",
    "        qry+= \"AND porte = '\" + porte + \"' \"\n",
    "    if tipo != None :\n",
    "        qry+= \"AND tipo = '\" + tipo + \"' \"\n",
    "    \n",
    "    cur.execute(qry)\n",
    "    lista = cur.fetchall()\n",
    "\n",
    "    return jsonify(lista)\n",
    "\n",
    "@app.route('/api/v1/natureza')\n",
    "def api_lista_natureza():\n",
    "    conn = psycopg2.connect(host=db_host, port=db_port, database=db_name, user=db_user, password=db_pass)\n",
    "    cur = conn.cursor()\n",
    "    \n",
    "    qry = \"SELECT distinct natureza as codnatureza, natureza as descricao \"\n",
    "    qry+= \"FROM inovacnj.movimentocnj \"\n",
    "    qry+= \"WHERE natureza IS NOT NULL \"\n",
    "    \n",
    "    cur.execute(qry)\n",
    "    lista = cur.fetchall()\n",
    "\n",
    "    return jsonify(lista)\n",
    "\n",
    "@app.route('/api/v1/classe')\n",
    "def api_lista_classe():\n",
    "    natureza = request.args.get('natureza')\n",
    "    conn = psycopg2.connect(host=db_host, port=db_port, database=db_name, user=db_user, password=db_pass)\n",
    "    cur = conn.cursor()\n",
    "    \n",
    "    qry = \"SELECT cod, descricao, sigla, codpai \"\n",
    "    qry+= \"FROM inovacnj.classe \"\n",
    "    qry+= \"WHERE (1=1)\"\n",
    "    \n",
    "    cur.execute(qry)\n",
    "    lista = cur.fetchall()\n",
    "\n",
    "    return jsonify(lista)\n",
    "\n",
    "@app.route('/api/v1/gerar-modelo-pm')\n",
    "def api_gerar_modelo_pm():\n",
    "    codtribunal = request.args.get('codtribunal')\n",
    "    grau = request.args.get('grau')\n",
    "    natureza = request.args.get('natureza')\n",
    "    codclasse = request.args.get('codclasse')\n",
    "    dtinicio = request.args.get('dtinicio')\n",
    "    dtfim = request.args.get('dtfim')\n",
    "    \n",
    "    if codtribunal is None:\n",
    "        abort(400, description=\"codtribunal nao informado\")\n",
    "    if natureza is None:\n",
    "        abort(400, description=\"natureza nao informado\")\n",
    "    \n",
    "    gviz = gerar_modelo_pm_from_params(codtribunal, grau, natureza, codclasse, dtinicio, dtfim)\n",
    "    if gviz != None:\n",
    "        #dfg_visualization.view(gviz)\n",
    "        path = \"./output/modelo_pm_\" + get_random_string(8) + \".png\"\n",
    "        dfg_visualization.save(gviz, path)\n",
    "        return send_file(path, as_attachment=True)\n",
    "    else:\n",
    "        print(\"sem dados\")\n",
    "        abort(404, description=\"Nao encontrado\")\n",
    "    \n",
    "\n",
    "app.run(host='0.0.0.0', port='8080')"
   ]
  }
 ],
 "metadata": {
  "kernelspec": {
   "display_name": "Python 3",
   "language": "python",
   "name": "python3"
  },
  "language_info": {
   "codemirror_mode": {
    "name": "ipython",
    "version": 3
   },
   "file_extension": ".py",
   "mimetype": "text/x-python",
   "name": "python",
   "nbconvert_exporter": "python",
   "pygments_lexer": "ipython3",
   "version": "3.8.5"
  }
 },
 "nbformat": 4,
 "nbformat_minor": 4
}
