{
 "cells": [
  {
   "cell_type": "code",
   "execution_count": 1,
   "metadata": {},
   "outputs": [],
   "source": [
    "# import das bibliotecas\n",
    "import psycopg2\n",
    "import flask\n",
    "from flask import Flask\n",
    "from flask import request, jsonify, send_file"
   ]
  },
  {
   "cell_type": "code",
   "execution_count": 2,
   "metadata": {},
   "outputs": [],
   "source": [
    "db_host = \"postgres\"\n",
    "db_port = \"5432\"\n",
    "db_name = \"dbinovacnj\"\n",
    "db_user = \"inovacnj\"\n",
    "db_pass = \"inovacnj@admin\""
   ]
  },
  {
   "cell_type": "code",
   "execution_count": 3,
   "metadata": {},
   "outputs": [
    {
     "name": "stdout",
     "output_type": "stream",
     "text": [
      "Requirement already satisfied: flask-restplus in /opt/conda/lib/python3.8/site-packages (0.13.0)\n",
      "Requirement already satisfied: jsonschema in /opt/conda/lib/python3.8/site-packages (from flask-restplus) (3.2.0)\n",
      "Requirement already satisfied: six>=1.3.0 in /opt/conda/lib/python3.8/site-packages (from flask-restplus) (1.15.0)\n",
      "Requirement already satisfied: Flask>=0.8 in /opt/conda/lib/python3.8/site-packages (from flask-restplus) (1.1.2)\n",
      "Requirement already satisfied: pytz in /opt/conda/lib/python3.8/site-packages (from flask-restplus) (2020.1)\n",
      "Requirement already satisfied: aniso8601>=0.82 in /opt/conda/lib/python3.8/site-packages (from flask-restplus) (8.0.0)\n",
      "Requirement already satisfied: setuptools in /opt/conda/lib/python3.8/site-packages (from jsonschema->flask-restplus) (49.6.0.post20200917)\n",
      "Requirement already satisfied: pyrsistent>=0.14.0 in /opt/conda/lib/python3.8/site-packages (from jsonschema->flask-restplus) (0.17.3)\n",
      "Requirement already satisfied: attrs>=17.4.0 in /opt/conda/lib/python3.8/site-packages (from jsonschema->flask-restplus) (20.2.0)\n",
      "Requirement already satisfied: click>=5.1 in /opt/conda/lib/python3.8/site-packages (from Flask>=0.8->flask-restplus) (7.1.2)\n",
      "Requirement already satisfied: itsdangerous>=0.24 in /opt/conda/lib/python3.8/site-packages (from Flask>=0.8->flask-restplus) (1.1.0)\n",
      "Requirement already satisfied: Jinja2>=2.10.1 in /opt/conda/lib/python3.8/site-packages (from Flask>=0.8->flask-restplus) (2.11.2)\n",
      "Requirement already satisfied: Werkzeug>=0.15 in /opt/conda/lib/python3.8/site-packages (from Flask>=0.8->flask-restplus) (0.16.1)\n",
      "Requirement already satisfied: MarkupSafe>=0.23 in /opt/conda/lib/python3.8/site-packages (from Jinja2>=2.10.1->Flask>=0.8->flask-restplus) (1.1.1)\n",
      "Note: you may need to restart the kernel to use updated packages.\n"
     ]
    }
   ],
   "source": [
    "pip install flask-restplus"
   ]
  },
  {
   "cell_type": "code",
   "execution_count": null,
   "metadata": {},
   "outputs": [
    {
     "name": "stdout",
     "output_type": "stream",
     "text": [
      " * Serving Flask app \"__main__\" (lazy loading)\n",
      " * Environment: production\n",
      "\u001b[31m   WARNING: This is a development server. Do not use it in a production deployment.\u001b[0m\n",
      "\u001b[2m   Use a production WSGI server instead.\u001b[0m\n",
      " * Debug mode: off\n"
     ]
    },
    {
     "name": "stderr",
     "output_type": "stream",
     "text": [
      " * Running on http://0.0.0.0:8080/ (Press CTRL+C to quit)\n",
      "172.18.0.1 - - [19/Oct/2020 15:33:31] \"GET /api/v1/tribunal HTTP/1.1\" 200 -\n",
      "172.18.0.1 - - [19/Oct/2020 15:33:42] \"GET /api/v1/tribunal?porte=Pequeno HTTP/1.1\" 200 -\n"
     ]
    }
   ],
   "source": [
    "app = Flask(__name__)\n",
    "\n",
    "@app.route('/api/v1/tipo-justica')\n",
    "def api_lista_tipojustica():\n",
    "    conn = psycopg2.connect(host=db_host, port=db_port, database=db_name, user=db_user, password=db_pass)\n",
    "    cur = conn.cursor()\n",
    "    \n",
    "    qry = \"SELECT DISTINCT tipo as cod, tipo as descricao \"\n",
    "    qry+= \"FROM inovacnj.tribunal\"\n",
    "    \n",
    "    cur.execute(qry)\n",
    "    lista = cur.fetchall()\n",
    "\n",
    "    return jsonify(lista)\n",
    "\n",
    "@app.route('/api/v1/porte')\n",
    "def api_lista_porte():\n",
    "    conn = psycopg2.connect(host=db_host, port=db_port, database=db_name, user=db_user, password=db_pass)\n",
    "    cur = conn.cursor()\n",
    "    \n",
    "    qry = \"SELECT DISTINCT porte as cod, porte as descricao \"\n",
    "    qry+= \"FROM inovacnj.tribunal\"\n",
    "    \n",
    "    cur.execute(qry)\n",
    "    lista = cur.fetchall()\n",
    "\n",
    "    return jsonify(lista)\n",
    "\n",
    "@app.route('/api/v1/tribunal')\n",
    "def api_lista_tribunal():\n",
    "    porte = request.args.get('porte')\n",
    "    tipo = request.args.get('tipo')\n",
    "    conn = psycopg2.connect(host=db_host, port=db_port, database=db_name, user=db_user, password=db_pass)\n",
    "    cur = conn.cursor()\n",
    "    \n",
    "    qry = \"SELECT * FROM inovacnj.tribunal \"\n",
    "    qry+= \"WHERE (1=1) \"\n",
    "    if porte != None :\n",
    "        qry+= \"AND porte = '\" + porte + \"' \"\n",
    "    if tipo != None :\n",
    "        qry+= \"AND tipo = '\" + tipo + \"' \"\n",
    "    \n",
    "    cur.execute(qry)\n",
    "    lista = cur.fetchall()\n",
    "\n",
    "    return jsonify(lista)\n",
    "\n",
    "@app.route('/api/v1/natureza')\n",
    "def api_lista_natureza():\n",
    "    conn = psycopg2.connect(host=db_host, port=db_port, database=db_name, user=db_user, password=db_pass)\n",
    "    cur = conn.cursor()\n",
    "    \n",
    "    qry = \"SELECT distinct natureza as codnatureza, natureza as descricao \"\n",
    "    qry+= \"FROM inovacnj.movimentocnj \"\n",
    "    qry+= \"WHERE natureza IS NOT NULL \"\n",
    "    \n",
    "    cur.execute(qry)\n",
    "    lista = cur.fetchall()\n",
    "\n",
    "    return jsonify(lista)\n",
    "\n",
    "@app.route('/api/v1/classe')\n",
    "def api_lista_classe():\n",
    "    natureza = request.args.get('natureza')\n",
    "    conn = psycopg2.connect(host=db_host, port=db_port, database=db_name, user=db_user, password=db_pass)\n",
    "    cur = conn.cursor()\n",
    "    \n",
    "    qry = \"SELECT * FROM inovacnj.classe \"\n",
    "    qry+= \"WHERE (1=1)\"\n",
    "    \n",
    "    cur.execute(qry)\n",
    "    lista = cur.fetchall()\n",
    "\n",
    "    return jsonify(lista)\n",
    "\n",
    "app.run(host='0.0.0.0', port='8080')"
   ]
  },
  {
   "cell_type": "code",
   "execution_count": null,
   "metadata": {},
   "outputs": [],
   "source": []
  }
 ],
 "metadata": {
  "kernelspec": {
   "display_name": "Python 3",
   "language": "python",
   "name": "python3"
  },
  "language_info": {
   "codemirror_mode": {
    "name": "ipython",
    "version": 3
   },
   "file_extension": ".py",
   "mimetype": "text/x-python",
   "name": "python",
   "nbconvert_exporter": "python",
   "pygments_lexer": "ipython3",
   "version": "3.8.5"
  }
 },
 "nbformat": 4,
 "nbformat_minor": 4
}
