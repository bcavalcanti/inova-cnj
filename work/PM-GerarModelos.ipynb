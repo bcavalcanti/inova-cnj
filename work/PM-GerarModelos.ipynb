{
 "cells": [
  {
   "cell_type": "code",
   "execution_count": 1,
   "metadata": {},
   "outputs": [],
   "source": [
    "# import das bibliotecas\n",
    "import pyspark\n",
    "from pyspark import SparkConf, SparkContext\n",
    "from pyspark.sql import SparkSession\n",
    "import collections\n",
    "import os\n",
    "from os.path import isfile, isdir, join\n",
    "import pm4py\n",
    "from pm4py.objects.log.util import dataframe_utils\n",
    "from pm4py.objects.conversion.log import converter as log_converter\n",
    "from pm4py.algo.discovery.dfg import algorithm as dfg_discovery\n",
    "from pm4py.visualization.dfg import visualizer as dfg_visualization"
   ]
  },
  {
   "cell_type": "code",
   "execution_count": 2,
   "metadata": {},
   "outputs": [],
   "source": [
    "os.environ['PYSPARK_SUBMIT_ARGS'] = '--jars file:///home/jovyan/jdbc/postgresql-42.2.17.jar pyspark-shell'"
   ]
  },
  {
   "cell_type": "code",
   "execution_count": 3,
   "metadata": {},
   "outputs": [],
   "source": [
    "db_url = \"jdbc:postgresql://postgres:5432/dbinovacnj\"\n",
    "db_name = \"dbinovacnj\"\n",
    "db_user = \"inovacnj\"\n",
    "db_pass = \"inovacnj@admin\"\n",
    "db_driver = \"org.postgresql.Driver\""
   ]
  },
  {
   "cell_type": "code",
   "execution_count": 4,
   "metadata": {},
   "outputs": [],
   "source": [
    "# inicialização do spark\n",
    "conf = SparkConf() \\\n",
    "        .setMaster(\"local[2]\") \\\n",
    "        .setAppName(\"PM-GerarModelos\") \\\n",
    "        .set(\"spark.executor.memory\", \"2g\") \\\n",
    "        .set(\"spark.driver.memory\", \"2g\") \\\n",
    "        .set(\"spark.driver.maxResultSize\", \"1g\") \\\n",
    "        .set(\"spark.sql.shuffle.partitions\" , \"800\") \\\n",
    "        .set(\"spark.sql.execution.arrow.pyspark.enabled\" , \"false\") \\\n",
    "\n",
    "spark = SparkSession \\\n",
    "    .builder \\\n",
    "    .config(conf=conf) \\\n",
    "    .getOrCreate()\n",
    "\n",
    "sc = spark.sparkContext"
   ]
  },
  {
   "cell_type": "code",
   "execution_count": 5,
   "metadata": {},
   "outputs": [],
   "source": [
    "def gerar_modelo_pm_from_dbquery(query):\n",
    "      \n",
    "    df_logeventos = spark.read.format(\"jdbc\") \\\n",
    "        .option(\"url\", db_url).option(\"user\", db_user).option(\"password\", db_pass).option(\"driver\", db_driver) \\\n",
    "        .option(\"query\", query) \\\n",
    "        .load()\n",
    "    \n",
    "    df_logeventos_pd = df_logeventos.toPandas()\n",
    "    dataframe = pm4py.format_dataframe(df_logeventos_pd, case_id='npu', activity_key='fase', timestamp_key='mov_dtmov')\n",
    "    eventLog = pm4py.convert_to_event_log(dataframe)\n",
    "\n",
    "    parameters = {dfg_visualization.Variants.FREQUENCY.value.Parameters.FORMAT: \"png\"}\n",
    "    dfg = dfg_discovery.apply(eventLog, variant=dfg_discovery.Variants.PERFORMANCE)\n",
    "    gviz = dfg_visualization.apply(dfg, log=eventLog, variant=dfg_visualization.Variants.PERFORMANCE, parameters=parameters)\n",
    "    \n",
    "    return gviz"
   ]
  },
  {
   "cell_type": "code",
   "execution_count": 6,
   "metadata": {},
   "outputs": [],
   "source": [
    "def gerar_modelo_pm_from_params(codtribunal, grau, natureza, codclasse):\n",
    "    print(\"gerando modelo com params: codtribunal: \" + str(codtribunal) + \n",
    "          \", grau: \" + str(grau) + \n",
    "          \", natureza: \" + str(natureza) + \n",
    "          \", codclasse: \" + str(codclasse))\n",
    "    query = \"SELECT npu, fase, mov_dtmov \"\n",
    "    query+= \"FROM inovacnj.fat_movimentos_te \"\n",
    "    query+= \"WHERE (1=1) \"\n",
    "    if codtribunal != None :\n",
    "        query+= \"AND codtribunal = '\" + codtribunal + \"' \"\n",
    "    if grau != None :\n",
    "        query+= \"AND grau = '\" + grau + \"' \"\n",
    "    if natureza != None :\n",
    "        query+= \"AND natureza = '\" + natureza + \"' \"\n",
    "    if codclasse != None :\n",
    "        query+= \"AND codclasse = \" + str(codclasse) + \" \"\n",
    "        \n",
    "    query+= \"ORDER BY mov_dtmov ASC \"\n",
    "    \n",
    "    return gerar_modelo_pm_from_dbquery(query)"
   ]
  },
  {
   "cell_type": "code",
   "execution_count": 8,
   "metadata": {},
   "outputs": [
    {
     "name": "stdout",
     "output_type": "stream",
     "text": [
      "gerando modelo com params: codtribunal: TJPE, grau: G1, natureza: CRIMINAL, codclasse: None\n"
     ]
    },
    {
     "name": "stderr",
     "output_type": "stream",
     "text": [
      "WARNING:root:please convert the dataframe for advanced process mining applications. log = pm4py.convert_to_event_log(df)\n"
     ]
    },
    {
     "data": {
      "image/png": "[encoded data removed]",
      "text/plain": [
       "<IPython.core.display.Image object>"
      ]
     },
     "metadata": {},
     "output_type": "display_data"
    }
   ],
   "source": [
    "gviz = gerar_modelo_pm_from_params('TJPE', 'G1', 'CRIMINAL', None)\n",
    "dfg_visualization.view(gviz)"
   ]
  },
  {
   "cell_type": "code",
   "execution_count": 11,
   "metadata": {},
   "outputs": [],
   "source": [
    "import random\n",
    "import string\n",
    "\n",
    "def get_random_string(length):\n",
    "    # Random string with the combination of lower and upper case\n",
    "    letters = string.ascii_letters\n",
    "    result_str = ''.join(random.choice(letters) for i in range(length))\n",
    "    return result_str"
   ]
  },
  {
   "cell_type": "code",
   "execution_count": 12,
   "metadata": {},
   "outputs": [
    {
     "name": "stdout",
     "output_type": "stream",
     "text": [
      "Random string is: tzKJnPjH\n"
     ]
    }
   ],
   "source": [
    "path = \"./output/\" + get_random_string(8) + \".png\"   \n",
    "dfg_visualization.save(gviz, path)"
   ]
  },
  {
   "cell_type": "code",
   "execution_count": null,
   "metadata": {},
   "outputs": [
    {
     "name": "stdout",
     "output_type": "stream",
     "text": [
      " * Serving Flask app \"__main__\" (lazy loading)\n",
      " * Environment: production\n",
      "\u001b[31m   WARNING: This is a development server. Do not use it in a production deployment.\u001b[0m\n",
      "\u001b[2m   Use a production WSGI server instead.\u001b[0m\n",
      " * Debug mode: off\n"
     ]
    },
    {
     "name": "stderr",
     "output_type": "stream",
     "text": [
      "INFO:werkzeug: * Running on http://0.0.0.0:8080/ (Press CTRL+C to quit)\n"
     ]
    },
    {
     "name": "stdout",
     "output_type": "stream",
     "text": [
      "gerando modelo com params: codtribunal: TJPE, grau: G1, natureza: CRIMINAL, codclasse: None\n"
     ]
    },
    {
     "name": "stderr",
     "output_type": "stream",
     "text": [
      "WARNING:root:please convert the dataframe for advanced process mining applications. log = pm4py.convert_to_event_log(df)\n",
      "INFO:werkzeug:179.124.139.162 - - [19/Oct/2020 10:45:39] \"\u001b[37mGET /gerar-modelo-pm?codtribunal=TJPE&grau=G1&natureza=CRIMINAL HTTP/1.1\u001b[0m\" 200 -\n"
     ]
    },
    {
     "name": "stdout",
     "output_type": "stream",
     "text": [
      "Random string is: YhvoPcFc\n",
      "gerando modelo com params: codtribunal: TJPE, grau: G1, natureza: CIVEL, codclasse: None\n"
     ]
    },
    {
     "name": "stderr",
     "output_type": "stream",
     "text": [
      "WARNING:root:please convert the dataframe for advanced process mining applications. log = pm4py.convert_to_event_log(df)\n",
      "INFO:werkzeug:179.124.139.162 - - [19/Oct/2020 10:46:05] \"\u001b[37mGET /gerar-modelo-pm?codtribunal=TJPE&grau=G1&natureza=CIVEL HTTP/1.1\u001b[0m\" 200 -\n"
     ]
    },
    {
     "name": "stdout",
     "output_type": "stream",
     "text": [
      "Random string is: yXzmopGC\n",
      "gerando modelo com params: codtribunal: TJPE, grau: G1, natureza: CRIMINAL, codclasse: 278\n"
     ]
    },
    {
     "name": "stderr",
     "output_type": "stream",
     "text": [
      "WARNING:root:please convert the dataframe for advanced process mining applications. log = pm4py.convert_to_event_log(df)\n",
      "INFO:werkzeug:179.124.139.162 - - [19/Oct/2020 10:49:06] \"\u001b[37mGET /gerar-modelo-pm?codtribunal=TJPE&grau=G1&natureza=CRIMINAL&codclasse=278 HTTP/1.1\u001b[0m\" 200 -\n"
     ]
    },
    {
     "name": "stdout",
     "output_type": "stream",
     "text": [
      "Random string is: tQmdZYJM\n"
     ]
    }
   ],
   "source": [
    "from flask import Flask\n",
    "from flask import request\n",
    "from flask import send_file\n",
    "\n",
    "\n",
    "app = Flask(__name__)\n",
    "\n",
    "@app.route('/gerar-modelo-pm')\n",
    "def gerarModeloPm ():\n",
    "    codtribunal = request.args.get('codtribunal')\n",
    "    grau = request.args.get('grau')\n",
    "    natureza = request.args.get('natureza')\n",
    "    codclasse = request.args.get('codclasse')\n",
    "    \n",
    "    gviz = gerar_modelo_pm_from_params(codtribunal, grau, natureza, codclasse)\n",
    "    \n",
    "    path = \"./output/pm_tmp_\" + get_random_string(8) + \".png\"\n",
    "    \n",
    "    dfg_visualization.save(gviz, path)\n",
    "    \n",
    "    return send_file(path, as_attachment=True)\n",
    "\n",
    "app.run(host='0.0.0.0', port='8080')"
   ]
  }
 ],
 "metadata": {
  "kernelspec": {
   "display_name": "Python 3",
   "language": "python",
   "name": "python3"
  },
  "language_info": {
   "codemirror_mode": {
    "name": "ipython",
    "version": 3
   },
   "file_extension": ".py",
   "mimetype": "text/x-python",
   "name": "python",
   "nbconvert_exporter": "python",
   "pygments_lexer": "ipython3",
   "version": "3.8.5"
  }
 },
 "nbformat": 4,
 "nbformat_minor": 4
}
