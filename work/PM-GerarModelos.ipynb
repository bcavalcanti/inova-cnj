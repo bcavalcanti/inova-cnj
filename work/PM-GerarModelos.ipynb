{
 "cells": [
  {
   "cell_type": "code",
   "execution_count": 38,
   "metadata": {},
   "outputs": [],
   "source": [
    "# import das bibliotecas\n",
    "import psycopg2\n",
    "import os\n",
    "\n",
    "import numpy as np\n",
    "import pandas as pd\n",
    "import pandas.io.sql as sqlio\n",
    "\n",
    "import pm4py\n",
    "from pm4py.objects.log.util import dataframe_utils\n",
    "from pm4py.objects.conversion.log import converter as log_converter\n",
    "from pm4py.algo.discovery.dfg import algorithm as dfg_discovery\n",
    "from pm4py.visualization.dfg import visualizer as dfg_visualization\n",
    "from pm4py.objects.conversion.dfg import converter as dfg_mining\n",
    "from pm4py.visualization.petrinet import visualizer as pn_visualizer\n",
    "from pm4py.algo.filtering.log.variants import variants_filter\n",
    "\n",
    "import json\n",
    "from flask import Flask, jsonify"
   ]
  },
  {
   "cell_type": "code",
   "execution_count": 2,
   "metadata": {},
   "outputs": [],
   "source": [
    "db_host = \"161.97.71.108\"\n",
    "db_port = \"15432\"\n",
    "db_name = os.getenv('POSTGRES_DB')\n",
    "db_user = os.getenv('POSTGRES_USER')\n",
    "db_pass = \"inovacnj@pwd2020\""
   ]
  },
  {
   "cell_type": "code",
   "execution_count": 34,
   "metadata": {},
   "outputs": [],
   "source": [
    "class ModeloEstatisticas:\n",
    "\n",
    "    def __init__(self, qtde_casos, caso_dur_min, caso_dur_max, caso_dur_media, \\\n",
    "                 taxa_chegada_casos, taxa_dispersao_casos):\n",
    "        self.qtde_casos = qtde_casos\n",
    "        self.caso_dur_min = caso_dur_min\n",
    "        self.caso_dur_max = caso_dur_max\n",
    "        self.caso_dur_media = caso_dur_media\n",
    "        self.taxa_chegada_casos = taxa_chegada_casos\n",
    "        self.taxa_dispersao_casos = taxa_dispersao_casos"
   ]
  },
  {
   "cell_type": "code",
   "execution_count": 14,
   "metadata": {},
   "outputs": [],
   "source": [
    "def gerar_log_eventos(codtribunal, grau, codorgaoj, natureza, codclasse, dtinicio, dtfim, sensibility):\n",
    "    \n",
    "    conn = psycopg2.connect(host=db_host, port=db_port, database=db_name, user=db_user, password=db_pass)\n",
    "    \n",
    "    qry = \"SELECT \"\n",
    "    qry+= \"  fat.npu as npu, \"\n",
    "    qry+= \"  fat.mov_dtmov as mov_dtmov, \"\n",
    "    qry+= \"  CASE \"\n",
    "    qry+= \"  WHEN f.descricao IS NULL THEN fat.mov_cod ||  ' - ' || fat.descmovimento \"\n",
    "    qry+= \"  ELSE f.descricao || ': ' || fat.mov_cod ||  ' - ' || fat.descmovimento \"\n",
    "    qry+= \"  END AS atividade \"\n",
    "    qry+= \"FROM inovacnj.fat_movimentos_te fat \"\n",
    "    qry+= \"INNER JOIN inovacnj.natureza_classe nc ON nc.cod_classe = fat.codclasse \"\n",
    "    qry+= \"INNER JOIN inovacnj.natureza nat ON nat.cod = nc.cod_natureza \"\n",
    "    qry+= \"LEFT JOIN inovacnj.fase_movimento fm ON fm.cod_movimento = fat.mov_cod \"\n",
    "    qry+= \"LEFT JOIN inovacnj.fase f ON f.cod = fm.cod_fase \"\n",
    "    qry+= \"WHERE (1=1) \"\n",
    "    \n",
    "    if codtribunal != None :\n",
    "        qry+= \"AND fat.codtribunal = '\" + codtribunal + \"' \"\n",
    "    if codorgaoj != None :\n",
    "        qry+= \"AND fat.oj_cod = '\" + codorgaoj + \"' \"\n",
    "    if grau != None :\n",
    "        qry+= \"AND fat.grau = '\" + grau + \"' \"\n",
    "    if natureza != None :\n",
    "        qry+= \"AND nat.descricao = '\" + natureza + \"' \"\n",
    "    if codclasse != None :\n",
    "        qry+= \"AND fat.codclasse = \" + str(codclasse) + \" \"\n",
    "        \n",
    "    if dtinicio != None and dtfim != None:\n",
    "        qry+= \"AND fat.mov_dtmov BETWEEN to_timestamp('\" + dtinicio + \"', 'yyyy-MM-dd') AND to_timestamp('\" + dtfim + \"', 'yyyy-MM-dd') \"\n",
    "        \n",
    "    qry+= \"ORDER BY fat.npu, fat.mov_dtmov ASC \"\n",
    "    \n",
    "    eventLog = None\n",
    "    \n",
    "    df_logeventos_pd = sqlio.read_sql_query(qry, conn)    \n",
    "    if df_logeventos_pd.size > 0 :\n",
    "        dataframe = pm4py.format_dataframe(df_logeventos_pd, case_id='npu', activity_key='atividade', timestamp_key='mov_dtmov')\n",
    "        eventLog = pm4py.convert_to_event_log(dataframe)\n",
    "        if sensibility != None :\n",
    "            eventLog = variants_filter.filter_log_variants_percentage(eventLog, percentage=float(sensibility) / 100)\n",
    "\n",
    "    return eventLog"
   ]
  },
  {
   "cell_type": "code",
   "execution_count": 5,
   "metadata": {},
   "outputs": [],
   "source": [
    "def gerar_dfg_model_from_log_eventos(eventLog):\n",
    "    if eventLog != None :\n",
    "        #Create dfg model from log\n",
    "        return dfg_discovery.apply(eventLog)\n",
    "    else :\n",
    "        return None"
   ]
  },
  {
   "cell_type": "code",
   "execution_count": 6,
   "metadata": {},
   "outputs": [],
   "source": [
    "def gerar_view_dfg_model(eventLog, dfg, metric_type = 'FREQUENCY', image_format = 'png'):\n",
    "    gviz = None\n",
    "    \n",
    "    if metric_type == 'PERFORMANCE' :\n",
    "        parameters = {dfg_visualization.Variants.PERFORMANCE.value.Parameters.FORMAT: image_format}\n",
    "        # Visualise\n",
    "        gviz = dfg_visualization.apply(dfg, log=eventLog, variant=dfg_visualization.Variants.PERFORMANCE, parameters=parameters)\n",
    "    elif metric_type == 'FREQUENCY' :\n",
    "        parameters = {dfg_visualization.Variants.FREQUENCY.value.Parameters.FORMAT: image_format}\n",
    "        # Visualise\n",
    "        gviz = dfg_visualization.apply(dfg, log=eventLog, variant=dfg_visualization.Variants.FREQUENCY, parameters=parameters)\n",
    "    else :\n",
    "        print(\"Invalid metric_type: \" + metric_type)\n",
    "\n",
    "    return gviz"
   ]
  },
  {
   "cell_type": "code",
   "execution_count": 7,
   "metadata": {},
   "outputs": [],
   "source": [
    "def gerar_view_dfg_model_from_params(codtribunal, grau, codorgaoj, natureza, codclasse, dtinicio, dtfim, \\\n",
    "        sensibility, metric_type = 'FREQUENCY', image_format = 'png'):\n",
    "    \n",
    "    gviz = None\n",
    "    \n",
    "    eventLog = gerar_log_eventos(codtribunal, grau, codorgaoj, natureza, codclasse, dtinicio, dtfim, sensibility)\n",
    "    \n",
    "    if eventLog != None :\n",
    "        dfg = gerar_dfg_model_from_log_eventos(eventLog)\n",
    "        gviz = gerar_view_dfg_model(eventLog, dfg, metric_type, image_format)\n",
    "    \n",
    "    return gviz"
   ]
  },
  {
   "cell_type": "code",
   "execution_count": 44,
   "metadata": {},
   "outputs": [
    {
     "ename": "TypeError",
     "evalue": "sequence item 7: expected str instance, NoneType found",
     "output_type": "error",
     "traceback": [
      "\u001b[0;31m---------------------------------------------------------------------------\u001b[0m",
      "\u001b[0;31mTypeError\u001b[0m                                 Traceback (most recent call last)",
      "\u001b[0;32m<ipython-input-44-2b6457dd29b0>\u001b[0m in \u001b[0;36m<module>\u001b[0;34m\u001b[0m\n\u001b[0;32m----> 1\u001b[0;31m \u001b[0meventLog\u001b[0m \u001b[0;34m=\u001b[0m \u001b[0mgerar_log_eventos\u001b[0m\u001b[0;34m(\u001b[0m\u001b[0;34m'TJCE'\u001b[0m\u001b[0;34m,\u001b[0m \u001b[0;32mNone\u001b[0m\u001b[0;34m,\u001b[0m \u001b[0;32mNone\u001b[0m\u001b[0;34m,\u001b[0m \u001b[0;34m'CIVEL'\u001b[0m\u001b[0;34m,\u001b[0m \u001b[0;32mNone\u001b[0m\u001b[0;34m,\u001b[0m \u001b[0;32mNone\u001b[0m\u001b[0;34m,\u001b[0m \u001b[0;32mNone\u001b[0m\u001b[0;34m,\u001b[0m \u001b[0;36m0.9\u001b[0m\u001b[0;34m)\u001b[0m\u001b[0;34m\u001b[0m\u001b[0;34m\u001b[0m\u001b[0m\n\u001b[0m\u001b[1;32m      2\u001b[0m \u001b[0mdfg\u001b[0m \u001b[0;34m=\u001b[0m \u001b[0mgerar_dfg_model_from_log_eventos\u001b[0m\u001b[0;34m(\u001b[0m\u001b[0meventLog\u001b[0m\u001b[0;34m)\u001b[0m\u001b[0;34m\u001b[0m\u001b[0;34m\u001b[0m\u001b[0m\n\u001b[1;32m      3\u001b[0m \u001b[0mgviz\u001b[0m \u001b[0;34m=\u001b[0m \u001b[0mgerar_view_dfg_model\u001b[0m\u001b[0;34m(\u001b[0m\u001b[0meventLog\u001b[0m\u001b[0;34m,\u001b[0m \u001b[0mdfg\u001b[0m\u001b[0;34m,\u001b[0m \u001b[0mmetric_type\u001b[0m \u001b[0;34m=\u001b[0m \u001b[0;34m'FREQUENCY'\u001b[0m\u001b[0;34m)\u001b[0m\u001b[0;34m\u001b[0m\u001b[0;34m\u001b[0m\u001b[0m\n\u001b[1;32m      4\u001b[0m \u001b[0mdfg_visualization\u001b[0m\u001b[0;34m.\u001b[0m\u001b[0mview\u001b[0m\u001b[0;34m(\u001b[0m\u001b[0mgviz\u001b[0m\u001b[0;34m)\u001b[0m\u001b[0;34m\u001b[0m\u001b[0;34m\u001b[0m\u001b[0m\n",
      "\u001b[0;32m<ipython-input-14-8792143e34a6>\u001b[0m in \u001b[0;36mgerar_log_eventos\u001b[0;34m(codtribunal, grau, codorgaoj, natureza, codclasse, dtinicio, dtfim, sensibility)\u001b[0m\n\u001b[1;32m     40\u001b[0m         \u001b[0meventLog\u001b[0m \u001b[0;34m=\u001b[0m \u001b[0mpm4py\u001b[0m\u001b[0;34m.\u001b[0m\u001b[0mconvert_to_event_log\u001b[0m\u001b[0;34m(\u001b[0m\u001b[0mdataframe\u001b[0m\u001b[0;34m)\u001b[0m\u001b[0;34m\u001b[0m\u001b[0;34m\u001b[0m\u001b[0m\n\u001b[1;32m     41\u001b[0m         \u001b[0;32mif\u001b[0m \u001b[0msensibility\u001b[0m \u001b[0;34m!=\u001b[0m \u001b[0;32mNone\u001b[0m \u001b[0;34m:\u001b[0m\u001b[0;34m\u001b[0m\u001b[0;34m\u001b[0m\u001b[0m\n\u001b[0;32m---> 42\u001b[0;31m             \u001b[0meventLog\u001b[0m \u001b[0;34m=\u001b[0m \u001b[0mvariants_filter\u001b[0m\u001b[0;34m.\u001b[0m\u001b[0mfilter_log_variants_percentage\u001b[0m\u001b[0;34m(\u001b[0m\u001b[0meventLog\u001b[0m\u001b[0;34m,\u001b[0m \u001b[0mpercentage\u001b[0m\u001b[0;34m=\u001b[0m\u001b[0mfloat\u001b[0m\u001b[0;34m(\u001b[0m\u001b[0msensibility\u001b[0m\u001b[0;34m)\u001b[0m \u001b[0;34m/\u001b[0m \u001b[0;36m100\u001b[0m\u001b[0;34m)\u001b[0m\u001b[0;34m\u001b[0m\u001b[0;34m\u001b[0m\u001b[0m\n\u001b[0m\u001b[1;32m     43\u001b[0m \u001b[0;34m\u001b[0m\u001b[0m\n\u001b[1;32m     44\u001b[0m     \u001b[0;32mreturn\u001b[0m \u001b[0meventLog\u001b[0m\u001b[0;34m\u001b[0m\u001b[0;34m\u001b[0m\u001b[0m\n",
      "\u001b[0;32m/opt/conda/lib/python3.8/site-packages/pm4py/algo/filtering/log/variants/variants_filter.py\u001b[0m in \u001b[0;36mfilter_log_variants_percentage\u001b[0;34m(log, percentage, parameters)\u001b[0m\n\u001b[1;32m     64\u001b[0m         \u001b[0mparameters\u001b[0m \u001b[0;34m=\u001b[0m \u001b[0;34m{\u001b[0m\u001b[0;34m}\u001b[0m\u001b[0;34m\u001b[0m\u001b[0;34m\u001b[0m\u001b[0m\n\u001b[1;32m     65\u001b[0m \u001b[0;34m\u001b[0m\u001b[0m\n\u001b[0;32m---> 66\u001b[0;31m     \u001b[0mvariants\u001b[0m \u001b[0;34m=\u001b[0m \u001b[0mget_variants\u001b[0m\u001b[0;34m(\u001b[0m\u001b[0mlog\u001b[0m\u001b[0;34m,\u001b[0m \u001b[0mparameters\u001b[0m\u001b[0;34m=\u001b[0m\u001b[0mparameters\u001b[0m\u001b[0;34m)\u001b[0m\u001b[0;34m\u001b[0m\u001b[0;34m\u001b[0m\u001b[0m\n\u001b[0m\u001b[1;32m     67\u001b[0m \u001b[0;34m\u001b[0m\u001b[0m\n\u001b[1;32m     68\u001b[0m     \u001b[0;32mreturn\u001b[0m \u001b[0mfilter_variants_variants_percentage\u001b[0m\u001b[0;34m(\u001b[0m\u001b[0mlog\u001b[0m\u001b[0;34m,\u001b[0m \u001b[0mvariants\u001b[0m\u001b[0;34m,\u001b[0m \u001b[0mvariants_percentage\u001b[0m\u001b[0;34m=\u001b[0m\u001b[0mpercentage\u001b[0m\u001b[0;34m)\u001b[0m\u001b[0;34m\u001b[0m\u001b[0;34m\u001b[0m\u001b[0m\n",
      "\u001b[0;32m/opt/conda/lib/python3.8/site-packages/pm4py/statistics/variants/log/get.py\u001b[0m in \u001b[0;36mget_variants\u001b[0;34m(log, parameters)\u001b[0m\n\u001b[1;32m     51\u001b[0m     \"\"\"\n\u001b[1;32m     52\u001b[0m \u001b[0;34m\u001b[0m\u001b[0m\n\u001b[0;32m---> 53\u001b[0;31m     \u001b[0mvariants_trace_idx\u001b[0m \u001b[0;34m=\u001b[0m \u001b[0mget_variants_from_log_trace_idx\u001b[0m\u001b[0;34m(\u001b[0m\u001b[0mlog\u001b[0m\u001b[0;34m,\u001b[0m \u001b[0mparameters\u001b[0m\u001b[0;34m=\u001b[0m\u001b[0mparameters\u001b[0m\u001b[0;34m)\u001b[0m\u001b[0;34m\u001b[0m\u001b[0;34m\u001b[0m\u001b[0m\n\u001b[0m\u001b[1;32m     54\u001b[0m \u001b[0;34m\u001b[0m\u001b[0m\n\u001b[1;32m     55\u001b[0m     \u001b[0mall_var\u001b[0m \u001b[0;34m=\u001b[0m \u001b[0mconvert_variants_trace_idx_to_trace_obj\u001b[0m\u001b[0;34m(\u001b[0m\u001b[0mlog\u001b[0m\u001b[0;34m,\u001b[0m \u001b[0mvariants_trace_idx\u001b[0m\u001b[0;34m)\u001b[0m\u001b[0;34m\u001b[0m\u001b[0;34m\u001b[0m\u001b[0m\n",
      "\u001b[0;32m/opt/conda/lib/python3.8/site-packages/pm4py/statistics/variants/log/get.py\u001b[0m in \u001b[0;36mget_variants_from_log_trace_idx\u001b[0;34m(log, parameters)\u001b[0m\n\u001b[1;32m    123\u001b[0m     \u001b[0mvariants\u001b[0m \u001b[0;34m=\u001b[0m \u001b[0;34m{\u001b[0m\u001b[0;34m}\u001b[0m\u001b[0;34m\u001b[0m\u001b[0;34m\u001b[0m\u001b[0m\n\u001b[1;32m    124\u001b[0m     \u001b[0;32mfor\u001b[0m \u001b[0mtrace_idx\u001b[0m\u001b[0;34m,\u001b[0m \u001b[0mtrace\u001b[0m \u001b[0;32min\u001b[0m \u001b[0menumerate\u001b[0m\u001b[0;34m(\u001b[0m\u001b[0mlog\u001b[0m\u001b[0;34m)\u001b[0m\u001b[0;34m:\u001b[0m\u001b[0;34m\u001b[0m\u001b[0;34m\u001b[0m\u001b[0m\n\u001b[0;32m--> 125\u001b[0;31m         \u001b[0mvariant\u001b[0m \u001b[0;34m=\u001b[0m \u001b[0mDEFAULT_VARIANT_SEP\u001b[0m\u001b[0;34m.\u001b[0m\u001b[0mjoin\u001b[0m\u001b[0;34m(\u001b[0m\u001b[0;34m[\u001b[0m\u001b[0mx\u001b[0m\u001b[0;34m[\u001b[0m\u001b[0mattribute_key\u001b[0m\u001b[0;34m]\u001b[0m \u001b[0;32mfor\u001b[0m \u001b[0mx\u001b[0m \u001b[0;32min\u001b[0m \u001b[0mtrace\u001b[0m \u001b[0;32mif\u001b[0m \u001b[0mattribute_key\u001b[0m \u001b[0;32min\u001b[0m \u001b[0mx\u001b[0m\u001b[0;34m]\u001b[0m\u001b[0;34m)\u001b[0m\u001b[0;34m\u001b[0m\u001b[0;34m\u001b[0m\u001b[0m\n\u001b[0m\u001b[1;32m    126\u001b[0m         \u001b[0;32mif\u001b[0m \u001b[0mvariant\u001b[0m \u001b[0;32mnot\u001b[0m \u001b[0;32min\u001b[0m \u001b[0mvariants\u001b[0m\u001b[0;34m:\u001b[0m\u001b[0;34m\u001b[0m\u001b[0;34m\u001b[0m\u001b[0m\n\u001b[1;32m    127\u001b[0m             \u001b[0mvariants\u001b[0m\u001b[0;34m[\u001b[0m\u001b[0mvariant\u001b[0m\u001b[0;34m]\u001b[0m \u001b[0;34m=\u001b[0m \u001b[0;34m[\u001b[0m\u001b[0;34m]\u001b[0m\u001b[0;34m\u001b[0m\u001b[0;34m\u001b[0m\u001b[0m\n",
      "\u001b[0;31mTypeError\u001b[0m: sequence item 7: expected str instance, NoneType found"
     ]
    }
   ],
   "source": [
    "eventLog = gerar_log_eventos('TJCE', None, None, 'CIVEL', None, None, None, 0.9)\n",
    "dfg = gerar_dfg_model_from_log_eventos(eventLog)\n",
    "gviz = gerar_view_dfg_model(eventLog, dfg, metric_type = 'FREQUENCY')\n",
    "dfg_visualization.view(gviz)"
   ]
  },
  {
   "cell_type": "code",
   "execution_count": 16,
   "metadata": {},
   "outputs": [],
   "source": [
    "dfg_perf = dfg_discovery.apply(eventLog, variant=dfg_discovery.Variants.PERFORMANCE)\n",
    "from pm4py.statistics.start_activities.log import get as start_activities\n",
    "from pm4py.statistics.end_activities.log import get as end_activities\n",
    "sa = start_activities.get_start_activities(eventLog)\n",
    "ea = end_activities.get_end_activities(eventLog)"
   ]
  },
  {
   "cell_type": "code",
   "execution_count": 17,
   "metadata": {},
   "outputs": [
    {
     "name": "stdout",
     "output_type": "stream",
     "text": [
      "4602.0\n"
     ]
    }
   ],
   "source": [
    "from pm4py.statistics.traces.log import case_arrival\n",
    "ratio = case_arrival.get_case_arrival_avg(eventLog)\n",
    "print(ratio)"
   ]
  },
  {
   "cell_type": "code",
   "execution_count": 18,
   "metadata": {},
   "outputs": [],
   "source": [
    "from pm4py.objects.conversion.dfg import converter\n",
    "net, im, fm = converter.apply(dfg_perf, variant=converter.Variants.VERSION_TO_PETRI_NET_ACTIVITY_DEFINES_PLACE,\n",
    "                              parameters={converter.Variants.VERSION_TO_PETRI_NET_ACTIVITY_DEFINES_PLACE.value.Parameters.START_ACTIVITIES: sa,\n",
    "                                          converter.Variants.VERSION_TO_PETRI_NET_ACTIVITY_DEFINES_PLACE.value.Parameters.END_ACTIVITIES: ea})"
   ]
  },
  {
   "cell_type": "code",
   "execution_count": 21,
   "metadata": {},
   "outputs": [
    {
     "name": "stderr",
     "output_type": "stream",
     "text": [
      "INFO:pm4py.simulation.montecarlo.variants.petri_semaph_fifo:1605539637.920957 started the replay operation.\n",
      "INFO:pm4py.simulation.montecarlo.variants.petri_semaph_fifo:1605539638.1254394 ended the replay operation.\n",
      "INFO:pm4py.simulation.montecarlo.variants.petri_semaph_fifo:1605539641.4609692 terminated successfully thread ID 0\n",
      "INFO:pm4py.simulation.montecarlo.variants.petri_semaph_fifo:1605539670.1218567 diagnostics for thread 1: blocked places by semaphore: {60 - Expedição de documento: 0, 873 - Deliberação em Sessão: 0, F2 - RECURSO: 239 - Não-Provimento: 0, 132 - Recebimento: 0, source: 0, 417 - Inclusão em pauta: 0, F1 - CONHECIMENTO: 220 - Improcedência: 0, F1 - CONHECIMENTO: 26 - Distribuição: 0, 51 - Conclusão: 0}\n",
      "INFO:pm4py.simulation.montecarlo.variants.petri_semaph_fifo:1605539670.1244724 diagnostics for thread 4: blocked places by semaphore: {60 - Expedição de documento: 0, 873 - Deliberação em Sessão: 0, F2 - RECURSO: 239 - Não-Provimento: 0, 132 - Recebimento: 0, source: 0, 417 - Inclusão em pauta: 0, F1 - CONHECIMENTO: 220 - Improcedência: 0, F1 - CONHECIMENTO: 26 - Distribuição: 0, 51 - Conclusão: 0}\n",
      "INFO:pm4py.simulation.montecarlo.variants.petri_semaph_fifo:1605539670.1366665 diagnostics for thread 2: blocked places by semaphore: {60 - Expedição de documento: 0, 873 - Deliberação em Sessão: 0, F2 - RECURSO: 239 - Não-Provimento: 0, 132 - Recebimento: 0, source: 0, 417 - Inclusão em pauta: 0, F1 - CONHECIMENTO: 220 - Improcedência: 0, F1 - CONHECIMENTO: 26 - Distribuição: 0, 51 - Conclusão: 0}\n",
      "INFO:pm4py.simulation.montecarlo.variants.petri_semaph_fifo:1605539670.1378174 diagnostics for thread 3: blocked places by semaphore: {60 - Expedição de documento: 0, 873 - Deliberação em Sessão: 0, F2 - RECURSO: 239 - Não-Provimento: 0, 132 - Recebimento: 0, source: 0, 417 - Inclusão em pauta: 0, F1 - CONHECIMENTO: 220 - Improcedência: 0, F1 - CONHECIMENTO: 26 - Distribuição: 0, 51 - Conclusão: 0}\n",
      "INFO:pm4py.simulation.montecarlo.variants.petri_semaph_fifo:1605539670.1544256 diagnostics for thread 7: blocked places by semaphore: {60 - Expedição de documento: 0, 873 - Deliberação em Sessão: 0, F2 - RECURSO: 239 - Não-Provimento: 0, 132 - Recebimento: 0, source: 0, 417 - Inclusão em pauta: 0, F1 - CONHECIMENTO: 220 - Improcedência: 0, F1 - CONHECIMENTO: 26 - Distribuição: 0, 51 - Conclusão: 0}\n",
      "INFO:pm4py.simulation.montecarlo.variants.petri_semaph_fifo:1605539670.1552896 diagnostics for thread 8: blocked places by semaphore: {60 - Expedição de documento: 0, 873 - Deliberação em Sessão: 0, F2 - RECURSO: 239 - Não-Provimento: 0, 132 - Recebimento: 0, source: 0, 417 - Inclusão em pauta: 0, F1 - CONHECIMENTO: 220 - Improcedência: 0, F1 - CONHECIMENTO: 26 - Distribuição: 0, 51 - Conclusão: 0}\n",
      "INFO:pm4py.simulation.montecarlo.variants.petri_semaph_fifo:1605539670.1557093 diagnostics for thread 5: blocked places by semaphore: {60 - Expedição de documento: 0, 873 - Deliberação em Sessão: 0, F2 - RECURSO: 239 - Não-Provimento: 0, 132 - Recebimento: 0, source: 0, 417 - Inclusão em pauta: 0, F1 - CONHECIMENTO: 220 - Improcedência: 0, F1 - CONHECIMENTO: 26 - Distribuição: 0, 51 - Conclusão: 0}\n",
      "INFO:pm4py.simulation.montecarlo.variants.petri_semaph_fifo:1605539670.1646605 diagnostics for thread 6: blocked places by semaphore: {60 - Expedição de documento: 0, 873 - Deliberação em Sessão: 0, F2 - RECURSO: 239 - Não-Provimento: 0, 132 - Recebimento: 0, source: 0, 417 - Inclusão em pauta: 0, F1 - CONHECIMENTO: 220 - Improcedência: 0, F1 - CONHECIMENTO: 26 - Distribuição: 0, 51 - Conclusão: 0}\n",
      "INFO:pm4py.simulation.montecarlo.variants.petri_semaph_fifo:1605539670.1876464 diagnostics for thread 9: blocked places by semaphore: {60 - Expedição de documento: 0, 873 - Deliberação em Sessão: 0, F2 - RECURSO: 239 - Não-Provimento: 0, 132 - Recebimento: 0, source: 0, 417 - Inclusão em pauta: 0, F1 - CONHECIMENTO: 220 - Improcedência: 0, F1 - CONHECIMENTO: 26 - Distribuição: 0, 51 - Conclusão: 0}\n",
      "INFO:pm4py.simulation.montecarlo.variants.petri_semaph_fifo:1605539670.1947536 diagnostics for thread 10: blocked places by semaphore: {60 - Expedição de documento: 0, 873 - Deliberação em Sessão: 0, F2 - RECURSO: 239 - Não-Provimento: 0, 132 - Recebimento: 0, source: 0, 417 - Inclusão em pauta: 0, F1 - CONHECIMENTO: 220 - Improcedência: 0, F1 - CONHECIMENTO: 26 - Distribuição: 0, 51 - Conclusão: 0}\n",
      "INFO:pm4py.simulation.montecarlo.variants.petri_semaph_fifo:1605539670.207414 diagnostics for thread 13: blocked places by semaphore: {60 - Expedição de documento: 0, 873 - Deliberação em Sessão: 0, F2 - RECURSO: 239 - Não-Provimento: 0, 132 - Recebimento: 0, source: 0, 417 - Inclusão em pauta: 0, F1 - CONHECIMENTO: 220 - Improcedência: 0, F1 - CONHECIMENTO: 26 - Distribuição: 0, 51 - Conclusão: 0}\n",
      "INFO:pm4py.simulation.montecarlo.variants.petri_semaph_fifo:1605539670.208913 diagnostics for thread 11: blocked places by semaphore: {60 - Expedição de documento: 0, 873 - Deliberação em Sessão: 0, F2 - RECURSO: 239 - Não-Provimento: 0, 132 - Recebimento: 0, source: 0, 417 - Inclusão em pauta: 0, F1 - CONHECIMENTO: 220 - Improcedência: 0, F1 - CONHECIMENTO: 26 - Distribuição: 0, 51 - Conclusão: 0}\n",
      "INFO:pm4py.simulation.montecarlo.variants.petri_semaph_fifo:1605539670.2154624 diagnostics for thread 12: blocked places by semaphore: {60 - Expedição de documento: 0, 873 - Deliberação em Sessão: 0, F2 - RECURSO: 239 - Não-Provimento: 0, 132 - Recebimento: 0, source: 0, 417 - Inclusão em pauta: 0, F1 - CONHECIMENTO: 220 - Improcedência: 0, F1 - CONHECIMENTO: 26 - Distribuição: 0, 51 - Conclusão: 0}\n",
      "INFO:pm4py.simulation.montecarlo.variants.petri_semaph_fifo:1605539670.2316904 diagnostics for thread 14: blocked places by semaphore: {60 - Expedição de documento: 0, 873 - Deliberação em Sessão: 0, F2 - RECURSO: 239 - Não-Provimento: 0, 132 - Recebimento: 0, source: 0, 417 - Inclusão em pauta: 0, F1 - CONHECIMENTO: 220 - Improcedência: 0, F1 - CONHECIMENTO: 26 - Distribuição: 0, 51 - Conclusão: 0}\n",
      "INFO:pm4py.simulation.montecarlo.variants.petri_semaph_fifo:1605539670.238724 diagnostics for thread 16: blocked places by semaphore: {60 - Expedição de documento: 0, 873 - Deliberação em Sessão: 0, F2 - RECURSO: 239 - Não-Provimento: 0, 132 - Recebimento: 0, source: 0, 417 - Inclusão em pauta: 0, F1 - CONHECIMENTO: 220 - Improcedência: 0, F1 - CONHECIMENTO: 26 - Distribuição: 0, 51 - Conclusão: 0}\n",
      "INFO:pm4py.simulation.montecarlo.variants.petri_semaph_fifo:1605539670.2408226 diagnostics for thread 15: blocked places by semaphore: {60 - Expedição de documento: 0, 873 - Deliberação em Sessão: 0, F2 - RECURSO: 239 - Não-Provimento: 0, 132 - Recebimento: 0, source: 0, 417 - Inclusão em pauta: 0, F1 - CONHECIMENTO: 220 - Improcedência: 0, F1 - CONHECIMENTO: 26 - Distribuição: 0, 51 - Conclusão: 0}\n",
      "INFO:pm4py.simulation.montecarlo.variants.petri_semaph_fifo:1605539670.2547183 diagnostics for thread 19: blocked places by semaphore: {60 - Expedição de documento: 0, 873 - Deliberação em Sessão: 0, F2 - RECURSO: 239 - Não-Provimento: 0, 132 - Recebimento: 0, source: 0, 417 - Inclusão em pauta: 0, F1 - CONHECIMENTO: 220 - Improcedência: 0, F1 - CONHECIMENTO: 26 - Distribuição: 0, 51 - Conclusão: 0}\n",
      "INFO:pm4py.simulation.montecarlo.variants.petri_semaph_fifo:1605539670.2593825 diagnostics for thread 18: blocked places by semaphore: {60 - Expedição de documento: 0, 873 - Deliberação em Sessão: 0, F2 - RECURSO: 239 - Não-Provimento: 0, 132 - Recebimento: 0, source: 0, 417 - Inclusão em pauta: 0, F1 - CONHECIMENTO: 220 - Improcedência: 0, F1 - CONHECIMENTO: 26 - Distribuição: 0, 51 - Conclusão: 0}\n",
      "INFO:pm4py.simulation.montecarlo.variants.petri_semaph_fifo:1605539670.26751 diagnostics for thread 17: blocked places by semaphore: {60 - Expedição de documento: 0, 873 - Deliberação em Sessão: 0, F2 - RECURSO: 239 - Não-Provimento: 0, 132 - Recebimento: 0, source: 0, 417 - Inclusão em pauta: 0, F1 - CONHECIMENTO: 220 - Improcedência: 0, F1 - CONHECIMENTO: 26 - Distribuição: 0, 51 - Conclusão: 0}\n",
      "INFO:pm4py.simulation.montecarlo.variants.petri_semaph_fifo:1605539670.282044 diagnostics for thread 20: blocked places by semaphore: {60 - Expedição de documento: 0, 873 - Deliberação em Sessão: 0, F2 - RECURSO: 239 - Não-Provimento: 0, 132 - Recebimento: 0, source: 0, 417 - Inclusão em pauta: 0, F1 - CONHECIMENTO: 220 - Improcedência: 0, F1 - CONHECIMENTO: 26 - Distribuição: 0, 51 - Conclusão: 0}\n"
     ]
    },
    {
     "name": "stderr",
     "output_type": "stream",
     "text": [
      "INFO:pm4py.simulation.montecarlo.variants.petri_semaph_fifo:1605539670.2987454 diagnostics for thread 22: blocked places by semaphore: {60 - Expedição de documento: 0, 873 - Deliberação em Sessão: 0, F2 - RECURSO: 239 - Não-Provimento: 0, 132 - Recebimento: 0, source: 0, 417 - Inclusão em pauta: 0, F1 - CONHECIMENTO: 220 - Improcedência: 0, F1 - CONHECIMENTO: 26 - Distribuição: 0, 51 - Conclusão: 0}\n",
      "INFO:pm4py.simulation.montecarlo.variants.petri_semaph_fifo:1605539670.302178 diagnostics for thread 21: blocked places by semaphore: {60 - Expedição de documento: 0, 873 - Deliberação em Sessão: 0, F2 - RECURSO: 239 - Não-Provimento: 0, 132 - Recebimento: 0, source: 0, 417 - Inclusão em pauta: 0, F1 - CONHECIMENTO: 220 - Improcedência: 0, F1 - CONHECIMENTO: 26 - Distribuição: 0, 51 - Conclusão: 0}\n",
      "INFO:pm4py.simulation.montecarlo.variants.petri_semaph_fifo:1605539670.3055177 diagnostics for thread 23: blocked places by semaphore: {60 - Expedição de documento: 0, 873 - Deliberação em Sessão: 0, F2 - RECURSO: 239 - Não-Provimento: 0, 132 - Recebimento: 0, source: 0, 417 - Inclusão em pauta: 0, F1 - CONHECIMENTO: 220 - Improcedência: 0, F1 - CONHECIMENTO: 26 - Distribuição: 0, 51 - Conclusão: 0}\n",
      "INFO:pm4py.simulation.montecarlo.variants.petri_semaph_fifo:1605539670.3195047 diagnostics for thread 24: blocked places by semaphore: {60 - Expedição de documento: 0, 873 - Deliberação em Sessão: 0, F2 - RECURSO: 239 - Não-Provimento: 0, 132 - Recebimento: 0, source: 0, 417 - Inclusão em pauta: 0, F1 - CONHECIMENTO: 220 - Improcedência: 0, F1 - CONHECIMENTO: 26 - Distribuição: 0, 51 - Conclusão: 0}\n",
      "INFO:pm4py.simulation.montecarlo.variants.petri_semaph_fifo:1605539670.3311913 diagnostics for thread 25: blocked places by semaphore: {60 - Expedição de documento: 0, 873 - Deliberação em Sessão: 0, F2 - RECURSO: 239 - Não-Provimento: 0, 132 - Recebimento: 0, source: 0, 417 - Inclusão em pauta: 0, F1 - CONHECIMENTO: 220 - Improcedência: 0, F1 - CONHECIMENTO: 26 - Distribuição: 0, 51 - Conclusão: 0}\n",
      "INFO:pm4py.simulation.montecarlo.variants.petri_semaph_fifo:1605539670.339545 diagnostics for thread 28: blocked places by semaphore: {60 - Expedição de documento: 0, 873 - Deliberação em Sessão: 0, F2 - RECURSO: 239 - Não-Provimento: 0, 132 - Recebimento: 0, source: 0, 417 - Inclusão em pauta: 0, F1 - CONHECIMENTO: 220 - Improcedência: 0, F1 - CONHECIMENTO: 26 - Distribuição: 0, 51 - Conclusão: 0}\n",
      "INFO:pm4py.simulation.montecarlo.variants.petri_semaph_fifo:1605539670.3445957 diagnostics for thread 26: blocked places by semaphore: {60 - Expedição de documento: 0, 873 - Deliberação em Sessão: 0, F2 - RECURSO: 239 - Não-Provimento: 0, 132 - Recebimento: 0, source: 0, 417 - Inclusão em pauta: 0, F1 - CONHECIMENTO: 220 - Improcedência: 0, F1 - CONHECIMENTO: 26 - Distribuição: 0, 51 - Conclusão: 0}\n",
      "INFO:pm4py.simulation.montecarlo.variants.petri_semaph_fifo:1605539670.350482 diagnostics for thread 27: blocked places by semaphore: {60 - Expedição de documento: 0, 873 - Deliberação em Sessão: 0, F2 - RECURSO: 239 - Não-Provimento: 0, 132 - Recebimento: 0, source: 0, 417 - Inclusão em pauta: 0, F1 - CONHECIMENTO: 220 - Improcedência: 0, F1 - CONHECIMENTO: 26 - Distribuição: 0, 51 - Conclusão: 0}\n",
      "INFO:pm4py.simulation.montecarlo.variants.petri_semaph_fifo:1605539670.3571498 diagnostics for thread 29: blocked places by semaphore: {60 - Expedição de documento: 0, 873 - Deliberação em Sessão: 0, F2 - RECURSO: 239 - Não-Provimento: 0, 132 - Recebimento: 0, source: 0, 417 - Inclusão em pauta: 0, F1 - CONHECIMENTO: 220 - Improcedência: 0, F1 - CONHECIMENTO: 26 - Distribuição: 0, 51 - Conclusão: 0}\n",
      "INFO:pm4py.simulation.montecarlo.variants.petri_semaph_fifo:1605539670.3664086 diagnostics for thread 31: blocked places by semaphore: {60 - Expedição de documento: 0, 873 - Deliberação em Sessão: 0, F2 - RECURSO: 239 - Não-Provimento: 0, 132 - Recebimento: 0, source: 0, 417 - Inclusão em pauta: 0, F1 - CONHECIMENTO: 220 - Improcedência: 0, F1 - CONHECIMENTO: 26 - Distribuição: 0, 51 - Conclusão: 0}\n",
      "INFO:pm4py.simulation.montecarlo.variants.petri_semaph_fifo:1605539670.382566 diagnostics for thread 30: blocked places by semaphore: {60 - Expedição de documento: 0, 873 - Deliberação em Sessão: 0, F2 - RECURSO: 239 - Não-Provimento: 0, 132 - Recebimento: 0, source: 0, 417 - Inclusão em pauta: 0, F1 - CONHECIMENTO: 220 - Improcedência: 0, F1 - CONHECIMENTO: 26 - Distribuição: 0, 51 - Conclusão: 0}\n",
      "INFO:pm4py.simulation.montecarlo.variants.petri_semaph_fifo:1605539670.393495 diagnostics for thread 32: blocked places by semaphore: {60 - Expedição de documento: 0, 873 - Deliberação em Sessão: 0, F2 - RECURSO: 239 - Não-Provimento: 0, 132 - Recebimento: 0, source: 0, 417 - Inclusão em pauta: 0, F1 - CONHECIMENTO: 220 - Improcedência: 0, F1 - CONHECIMENTO: 26 - Distribuição: 0, 51 - Conclusão: 0}\n",
      "INFO:pm4py.simulation.montecarlo.variants.petri_semaph_fifo:1605539670.40985 diagnostics for thread 34: blocked places by semaphore: {60 - Expedição de documento: 0, 873 - Deliberação em Sessão: 0, F2 - RECURSO: 239 - Não-Provimento: 0, 132 - Recebimento: 0, source: 0, 417 - Inclusão em pauta: 0, F1 - CONHECIMENTO: 220 - Improcedência: 0, F1 - CONHECIMENTO: 26 - Distribuição: 0, 51 - Conclusão: 0}\n",
      "INFO:pm4py.simulation.montecarlo.variants.petri_semaph_fifo:1605539670.4146507 diagnostics for thread 33: blocked places by semaphore: {60 - Expedição de documento: 0, 873 - Deliberação em Sessão: 0, F2 - RECURSO: 239 - Não-Provimento: 0, 132 - Recebimento: 0, source: 0, 417 - Inclusão em pauta: 0, F1 - CONHECIMENTO: 220 - Improcedência: 0, F1 - CONHECIMENTO: 26 - Distribuição: 0, 51 - Conclusão: 0}\n",
      "INFO:pm4py.simulation.montecarlo.variants.petri_semaph_fifo:1605539670.4243367 diagnostics for thread 35: blocked places by semaphore: {60 - Expedição de documento: 0, 873 - Deliberação em Sessão: 0, F2 - RECURSO: 239 - Não-Provimento: 0, 132 - Recebimento: 0, source: 0, 417 - Inclusão em pauta: 0, F1 - CONHECIMENTO: 220 - Improcedência: 0, F1 - CONHECIMENTO: 26 - Distribuição: 0, 51 - Conclusão: 0}\n",
      "INFO:pm4py.simulation.montecarlo.variants.petri_semaph_fifo:1605539670.440255 diagnostics for thread 37: blocked places by semaphore: {60 - Expedição de documento: 0, 873 - Deliberação em Sessão: 0, F2 - RECURSO: 239 - Não-Provimento: 0, 132 - Recebimento: 0, source: 0, 417 - Inclusão em pauta: 0, F1 - CONHECIMENTO: 220 - Improcedência: 0, F1 - CONHECIMENTO: 26 - Distribuição: 0, 51 - Conclusão: 0}\n",
      "INFO:pm4py.simulation.montecarlo.variants.petri_semaph_fifo:1605539670.4413452 diagnostics for thread 36: blocked places by semaphore: {60 - Expedição de documento: 0, 873 - Deliberação em Sessão: 0, F2 - RECURSO: 239 - Não-Provimento: 0, 132 - Recebimento: 0, source: 0, 417 - Inclusão em pauta: 0, F1 - CONHECIMENTO: 220 - Improcedência: 0, F1 - CONHECIMENTO: 26 - Distribuição: 0, 51 - Conclusão: 0}\n",
      "INFO:pm4py.simulation.montecarlo.variants.petri_semaph_fifo:1605539670.4556346 diagnostics for thread 38: blocked places by semaphore: {60 - Expedição de documento: 0, 873 - Deliberação em Sessão: 0, F2 - RECURSO: 239 - Não-Provimento: 0, 132 - Recebimento: 0, source: 0, 417 - Inclusão em pauta: 0, F1 - CONHECIMENTO: 220 - Improcedência: 0, F1 - CONHECIMENTO: 26 - Distribuição: 0, 51 - Conclusão: 0}\n",
      "INFO:pm4py.simulation.montecarlo.variants.petri_semaph_fifo:1605539670.4583397 diagnostics for thread 39: blocked places by semaphore: {60 - Expedição de documento: 0, 873 - Deliberação em Sessão: 0, F2 - RECURSO: 239 - Não-Provimento: 0, 132 - Recebimento: 0, source: 0, 417 - Inclusão em pauta: 0, F1 - CONHECIMENTO: 220 - Improcedência: 0, F1 - CONHECIMENTO: 26 - Distribuição: 0, 51 - Conclusão: 0}\n",
      "INFO:pm4py.simulation.montecarlo.variants.petri_semaph_fifo:1605539670.460822 diagnostics for thread 40: blocked places by semaphore: {60 - Expedição de documento: 0, 873 - Deliberação em Sessão: 0, F2 - RECURSO: 239 - Não-Provimento: 0, 132 - Recebimento: 0, source: 0, 417 - Inclusão em pauta: 0, F1 - CONHECIMENTO: 220 - Improcedência: 0, F1 - CONHECIMENTO: 26 - Distribuição: 0, 51 - Conclusão: 0}\n",
      "INFO:pm4py.simulation.montecarlo.variants.petri_semaph_fifo:1605539670.4692283 diagnostics for thread 42: blocked places by semaphore: {60 - Expedição de documento: 0, 873 - Deliberação em Sessão: 0, F2 - RECURSO: 239 - Não-Provimento: 0, 132 - Recebimento: 0, source: 0, 417 - Inclusão em pauta: 0, F1 - CONHECIMENTO: 220 - Improcedência: 0, F1 - CONHECIMENTO: 26 - Distribuição: 0, 51 - Conclusão: 0}\n"
     ]
    },
    {
     "name": "stderr",
     "output_type": "stream",
     "text": [
      "INFO:pm4py.simulation.montecarlo.variants.petri_semaph_fifo:1605539670.4750109 diagnostics for thread 41: blocked places by semaphore: {60 - Expedição de documento: 0, 873 - Deliberação em Sessão: 0, F2 - RECURSO: 239 - Não-Provimento: 0, 132 - Recebimento: 0, source: 0, 417 - Inclusão em pauta: 0, F1 - CONHECIMENTO: 220 - Improcedência: 0, F1 - CONHECIMENTO: 26 - Distribuição: 0, 51 - Conclusão: 0}\n",
      "INFO:pm4py.simulation.montecarlo.variants.petri_semaph_fifo:1605539670.4954927 diagnostics for thread 43: blocked places by semaphore: {60 - Expedição de documento: 0, 873 - Deliberação em Sessão: 0, F2 - RECURSO: 239 - Não-Provimento: 0, 132 - Recebimento: 0, source: 0, 417 - Inclusão em pauta: 0, F1 - CONHECIMENTO: 220 - Improcedência: 0, F1 - CONHECIMENTO: 26 - Distribuição: 0, 51 - Conclusão: 0}\n",
      "INFO:pm4py.simulation.montecarlo.variants.petri_semaph_fifo:1605539670.5005689 diagnostics for thread 45: blocked places by semaphore: {60 - Expedição de documento: 0, 873 - Deliberação em Sessão: 0, F2 - RECURSO: 239 - Não-Provimento: 0, 132 - Recebimento: 0, source: 0, 417 - Inclusão em pauta: 0, F1 - CONHECIMENTO: 220 - Improcedência: 0, F1 - CONHECIMENTO: 26 - Distribuição: 0, 51 - Conclusão: 0}\n",
      "INFO:pm4py.simulation.montecarlo.variants.petri_semaph_fifo:1605539670.5077827 diagnostics for thread 44: blocked places by semaphore: {60 - Expedição de documento: 0, 873 - Deliberação em Sessão: 0, F2 - RECURSO: 239 - Não-Provimento: 0, 132 - Recebimento: 0, source: 0, 417 - Inclusão em pauta: 0, F1 - CONHECIMENTO: 220 - Improcedência: 0, F1 - CONHECIMENTO: 26 - Distribuição: 0, 51 - Conclusão: 0}\n",
      "INFO:pm4py.simulation.montecarlo.variants.petri_semaph_fifo:1605539670.5083923 diagnostics for thread 46: blocked places by semaphore: {60 - Expedição de documento: 0, 873 - Deliberação em Sessão: 0, F2 - RECURSO: 239 - Não-Provimento: 0, 132 - Recebimento: 0, source: 0, 417 - Inclusão em pauta: 0, F1 - CONHECIMENTO: 220 - Improcedência: 0, F1 - CONHECIMENTO: 26 - Distribuição: 0, 51 - Conclusão: 0}\n",
      "INFO:pm4py.simulation.montecarlo.variants.petri_semaph_fifo:1605539670.532402 diagnostics for thread 47: blocked places by semaphore: {60 - Expedição de documento: 0, 873 - Deliberação em Sessão: 0, F2 - RECURSO: 239 - Não-Provimento: 0, 132 - Recebimento: 0, source: 0, 417 - Inclusão em pauta: 0, F1 - CONHECIMENTO: 220 - Improcedência: 0, F1 - CONHECIMENTO: 26 - Distribuição: 0, 51 - Conclusão: 0}\n",
      "INFO:pm4py.simulation.montecarlo.variants.petri_semaph_fifo:1605539670.534605 diagnostics for thread 48: blocked places by semaphore: {60 - Expedição de documento: 0, 873 - Deliberação em Sessão: 0, F2 - RECURSO: 239 - Não-Provimento: 0, 132 - Recebimento: 0, source: 0, 417 - Inclusão em pauta: 0, F1 - CONHECIMENTO: 220 - Improcedência: 0, F1 - CONHECIMENTO: 26 - Distribuição: 0, 51 - Conclusão: 0}\n",
      "INFO:pm4py.simulation.montecarlo.variants.petri_semaph_fifo:1605539670.5479836 diagnostics for thread 49: blocked places by semaphore: {60 - Expedição de documento: 0, 873 - Deliberação em Sessão: 0, F2 - RECURSO: 239 - Não-Provimento: 0, 132 - Recebimento: 0, source: 0, 417 - Inclusão em pauta: 0, F1 - CONHECIMENTO: 220 - Improcedência: 0, F1 - CONHECIMENTO: 26 - Distribuição: 0, 51 - Conclusão: 0}\n",
      "INFO:pm4py.simulation.montecarlo.variants.petri_semaph_fifo:1605539670.5564432 diagnostics for thread 50: blocked places by semaphore: {60 - Expedição de documento: 0, 873 - Deliberação em Sessão: 0, F2 - RECURSO: 239 - Não-Provimento: 0, 132 - Recebimento: 0, source: 0, 417 - Inclusão em pauta: 0, F1 - CONHECIMENTO: 220 - Improcedência: 0, F1 - CONHECIMENTO: 26 - Distribuição: 0, 51 - Conclusão: 0}\n",
      "INFO:pm4py.simulation.montecarlo.variants.petri_semaph_fifo:1605539670.564675 diagnostics for thread 51: blocked places by semaphore: {60 - Expedição de documento: 0, 873 - Deliberação em Sessão: 0, F2 - RECURSO: 239 - Não-Provimento: 0, 132 - Recebimento: 0, source: 0, 417 - Inclusão em pauta: 0, F1 - CONHECIMENTO: 220 - Improcedência: 0, F1 - CONHECIMENTO: 26 - Distribuição: 0, 51 - Conclusão: 0}\n",
      "INFO:pm4py.simulation.montecarlo.variants.petri_semaph_fifo:1605539670.5683026 diagnostics for thread 52: blocked places by semaphore: {60 - Expedição de documento: 0, 873 - Deliberação em Sessão: 0, F2 - RECURSO: 239 - Não-Provimento: 0, 132 - Recebimento: 0, source: 0, 417 - Inclusão em pauta: 0, F1 - CONHECIMENTO: 220 - Improcedência: 0, F1 - CONHECIMENTO: 26 - Distribuição: 0, 51 - Conclusão: 0}\n",
      "INFO:pm4py.simulation.montecarlo.variants.petri_semaph_fifo:1605539670.579058 diagnostics for thread 53: blocked places by semaphore: {60 - Expedição de documento: 0, 873 - Deliberação em Sessão: 0, F2 - RECURSO: 239 - Não-Provimento: 0, 132 - Recebimento: 0, source: 0, 417 - Inclusão em pauta: 0, F1 - CONHECIMENTO: 220 - Improcedência: 0, F1 - CONHECIMENTO: 26 - Distribuição: 0, 51 - Conclusão: 0}\n",
      "INFO:pm4py.simulation.montecarlo.variants.petri_semaph_fifo:1605539670.589392 diagnostics for thread 54: blocked places by semaphore: {60 - Expedição de documento: 0, 873 - Deliberação em Sessão: 0, F2 - RECURSO: 239 - Não-Provimento: 0, 132 - Recebimento: 0, source: 0, 417 - Inclusão em pauta: 0, F1 - CONHECIMENTO: 220 - Improcedência: 0, F1 - CONHECIMENTO: 26 - Distribuição: 0, 51 - Conclusão: 0}\n",
      "INFO:pm4py.simulation.montecarlo.variants.petri_semaph_fifo:1605539670.5903878 diagnostics for thread 55: blocked places by semaphore: {60 - Expedição de documento: 0, 873 - Deliberação em Sessão: 0, F2 - RECURSO: 239 - Não-Provimento: 0, 132 - Recebimento: 0, source: 0, 417 - Inclusão em pauta: 0, F1 - CONHECIMENTO: 220 - Improcedência: 0, F1 - CONHECIMENTO: 26 - Distribuição: 0, 51 - Conclusão: 0}\n",
      "INFO:pm4py.simulation.montecarlo.variants.petri_semaph_fifo:1605539670.5905607 diagnostics for thread 56: blocked places by semaphore: {60 - Expedição de documento: 0, 873 - Deliberação em Sessão: 0, F2 - RECURSO: 239 - Não-Provimento: 0, 132 - Recebimento: 0, source: 0, 417 - Inclusão em pauta: 0, F1 - CONHECIMENTO: 220 - Improcedência: 0, F1 - CONHECIMENTO: 26 - Distribuição: 0, 51 - Conclusão: 0}\n",
      "INFO:pm4py.simulation.montecarlo.variants.petri_semaph_fifo:1605539670.6024175 diagnostics for thread 58: blocked places by semaphore: {60 - Expedição de documento: 0, 873 - Deliberação em Sessão: 0, F2 - RECURSO: 239 - Não-Provimento: 0, 132 - Recebimento: 0, source: 0, 417 - Inclusão em pauta: 0, F1 - CONHECIMENTO: 220 - Improcedência: 0, F1 - CONHECIMENTO: 26 - Distribuição: 0, 51 - Conclusão: 0}\n",
      "INFO:pm4py.simulation.montecarlo.variants.petri_semaph_fifo:1605539670.6193733 diagnostics for thread 57: blocked places by semaphore: {60 - Expedição de documento: 0, 873 - Deliberação em Sessão: 0, F2 - RECURSO: 239 - Não-Provimento: 0, 132 - Recebimento: 0, source: 0, 417 - Inclusão em pauta: 0, F1 - CONHECIMENTO: 220 - Improcedência: 0, F1 - CONHECIMENTO: 26 - Distribuição: 0, 51 - Conclusão: 0}\n",
      "INFO:pm4py.simulation.montecarlo.variants.petri_semaph_fifo:1605539670.6325378 diagnostics for thread 61: blocked places by semaphore: {60 - Expedição de documento: 0, 873 - Deliberação em Sessão: 0, F2 - RECURSO: 239 - Não-Provimento: 0, 132 - Recebimento: 0, source: 0, 417 - Inclusão em pauta: 0, F1 - CONHECIMENTO: 220 - Improcedência: 0, F1 - CONHECIMENTO: 26 - Distribuição: 0, 51 - Conclusão: 0}\n",
      "INFO:pm4py.simulation.montecarlo.variants.petri_semaph_fifo:1605539670.637511 diagnostics for thread 59: blocked places by semaphore: {60 - Expedição de documento: 0, 873 - Deliberação em Sessão: 0, F2 - RECURSO: 239 - Não-Provimento: 0, 132 - Recebimento: 0, source: 0, 417 - Inclusão em pauta: 0, F1 - CONHECIMENTO: 220 - Improcedência: 0, F1 - CONHECIMENTO: 26 - Distribuição: 0, 51 - Conclusão: 0}\n",
      "INFO:pm4py.simulation.montecarlo.variants.petri_semaph_fifo:1605539670.645325 diagnostics for thread 60: blocked places by semaphore: {60 - Expedição de documento: 0, 873 - Deliberação em Sessão: 0, F2 - RECURSO: 239 - Não-Provimento: 0, 132 - Recebimento: 0, source: 0, 417 - Inclusão em pauta: 0, F1 - CONHECIMENTO: 220 - Improcedência: 0, F1 - CONHECIMENTO: 26 - Distribuição: 0, 51 - Conclusão: 0}\n",
      "INFO:pm4py.simulation.montecarlo.variants.petri_semaph_fifo:1605539670.65672 diagnostics for thread 62: blocked places by semaphore: {60 - Expedição de documento: 0, 873 - Deliberação em Sessão: 0, F2 - RECURSO: 239 - Não-Provimento: 0, 132 - Recebimento: 0, source: 0, 417 - Inclusão em pauta: 0, F1 - CONHECIMENTO: 220 - Improcedência: 0, F1 - CONHECIMENTO: 26 - Distribuição: 0, 51 - Conclusão: 0}\n"
     ]
    },
    {
     "name": "stderr",
     "output_type": "stream",
     "text": [
      "INFO:pm4py.simulation.montecarlo.variants.petri_semaph_fifo:1605539670.6614876 diagnostics for thread 65: blocked places by semaphore: {60 - Expedição de documento: 0, 873 - Deliberação em Sessão: 0, F2 - RECURSO: 239 - Não-Provimento: 0, 132 - Recebimento: 0, source: 0, 417 - Inclusão em pauta: 0, F1 - CONHECIMENTO: 220 - Improcedência: 0, F1 - CONHECIMENTO: 26 - Distribuição: 0, 51 - Conclusão: 0}\n",
      "INFO:pm4py.simulation.montecarlo.variants.petri_semaph_fifo:1605539670.6639018 diagnostics for thread 64: blocked places by semaphore: {60 - Expedição de documento: 0, 873 - Deliberação em Sessão: 0, F2 - RECURSO: 239 - Não-Provimento: 0, 132 - Recebimento: 0, source: 0, 417 - Inclusão em pauta: 0, F1 - CONHECIMENTO: 220 - Improcedência: 0, F1 - CONHECIMENTO: 26 - Distribuição: 0, 51 - Conclusão: 0}\n",
      "INFO:pm4py.simulation.montecarlo.variants.petri_semaph_fifo:1605539670.666496 diagnostics for thread 63: blocked places by semaphore: {60 - Expedição de documento: 0, 873 - Deliberação em Sessão: 0, F2 - RECURSO: 239 - Não-Provimento: 0, 132 - Recebimento: 0, source: 0, 417 - Inclusão em pauta: 0, F1 - CONHECIMENTO: 220 - Improcedência: 0, F1 - CONHECIMENTO: 26 - Distribuição: 0, 51 - Conclusão: 0}\n",
      "INFO:pm4py.simulation.montecarlo.variants.petri_semaph_fifo:1605539670.6848497 diagnostics for thread 66: blocked places by semaphore: {60 - Expedição de documento: 0, 873 - Deliberação em Sessão: 0, F2 - RECURSO: 239 - Não-Provimento: 0, 132 - Recebimento: 0, source: 0, 417 - Inclusão em pauta: 0, F1 - CONHECIMENTO: 220 - Improcedência: 0, F1 - CONHECIMENTO: 26 - Distribuição: 0, 51 - Conclusão: 0}\n",
      "INFO:pm4py.simulation.montecarlo.variants.petri_semaph_fifo:1605539670.6967385 diagnostics for thread 68: blocked places by semaphore: {60 - Expedição de documento: 0, 873 - Deliberação em Sessão: 0, F2 - RECURSO: 239 - Não-Provimento: 0, 132 - Recebimento: 0, source: 0, 417 - Inclusão em pauta: 0, F1 - CONHECIMENTO: 220 - Improcedência: 0, F1 - CONHECIMENTO: 26 - Distribuição: 0, 51 - Conclusão: 0}\n",
      "INFO:pm4py.simulation.montecarlo.variants.petri_semaph_fifo:1605539670.6985185 diagnostics for thread 67: blocked places by semaphore: {60 - Expedição de documento: 0, 873 - Deliberação em Sessão: 0, F2 - RECURSO: 239 - Não-Provimento: 0, 132 - Recebimento: 0, source: 0, 417 - Inclusão em pauta: 0, F1 - CONHECIMENTO: 220 - Improcedência: 0, F1 - CONHECIMENTO: 26 - Distribuição: 0, 51 - Conclusão: 0}\n",
      "INFO:pm4py.simulation.montecarlo.variants.petri_semaph_fifo:1605539670.7159567 diagnostics for thread 70: blocked places by semaphore: {60 - Expedição de documento: 0, 873 - Deliberação em Sessão: 0, F2 - RECURSO: 239 - Não-Provimento: 0, 132 - Recebimento: 0, source: 0, 417 - Inclusão em pauta: 0, F1 - CONHECIMENTO: 220 - Improcedência: 0, F1 - CONHECIMENTO: 26 - Distribuição: 0, 51 - Conclusão: 0}\n",
      "INFO:pm4py.simulation.montecarlo.variants.petri_semaph_fifo:1605539670.72135 diagnostics for thread 69: blocked places by semaphore: {60 - Expedição de documento: 0, 873 - Deliberação em Sessão: 0, F2 - RECURSO: 239 - Não-Provimento: 0, 132 - Recebimento: 0, source: 0, 417 - Inclusão em pauta: 0, F1 - CONHECIMENTO: 220 - Improcedência: 0, F1 - CONHECIMENTO: 26 - Distribuição: 0, 51 - Conclusão: 0}\n",
      "INFO:pm4py.simulation.montecarlo.variants.petri_semaph_fifo:1605539670.7294488 diagnostics for thread 72: blocked places by semaphore: {60 - Expedição de documento: 0, 873 - Deliberação em Sessão: 0, F2 - RECURSO: 239 - Não-Provimento: 0, 132 - Recebimento: 0, source: 0, 417 - Inclusão em pauta: 0, F1 - CONHECIMENTO: 220 - Improcedência: 0, F1 - CONHECIMENTO: 26 - Distribuição: 0, 51 - Conclusão: 0}\n",
      "INFO:pm4py.simulation.montecarlo.variants.petri_semaph_fifo:1605539670.7358167 diagnostics for thread 73: blocked places by semaphore: {60 - Expedição de documento: 0, 873 - Deliberação em Sessão: 0, F2 - RECURSO: 239 - Não-Provimento: 0, 132 - Recebimento: 0, source: 0, 417 - Inclusão em pauta: 0, F1 - CONHECIMENTO: 220 - Improcedência: 0, F1 - CONHECIMENTO: 26 - Distribuição: 0, 51 - Conclusão: 0}\n",
      "INFO:pm4py.simulation.montecarlo.variants.petri_semaph_fifo:1605539670.7364373 diagnostics for thread 71: blocked places by semaphore: {60 - Expedição de documento: 0, 873 - Deliberação em Sessão: 0, F2 - RECURSO: 239 - Não-Provimento: 0, 132 - Recebimento: 0, source: 0, 417 - Inclusão em pauta: 0, F1 - CONHECIMENTO: 220 - Improcedência: 0, F1 - CONHECIMENTO: 26 - Distribuição: 0, 51 - Conclusão: 0}\n",
      "INFO:pm4py.simulation.montecarlo.variants.petri_semaph_fifo:1605539670.7452147 diagnostics for thread 74: blocked places by semaphore: {60 - Expedição de documento: 0, 873 - Deliberação em Sessão: 0, F2 - RECURSO: 239 - Não-Provimento: 0, 132 - Recebimento: 0, source: 0, 417 - Inclusão em pauta: 0, F1 - CONHECIMENTO: 220 - Improcedência: 0, F1 - CONHECIMENTO: 26 - Distribuição: 0, 51 - Conclusão: 0}\n",
      "INFO:pm4py.simulation.montecarlo.variants.petri_semaph_fifo:1605539670.76848 diagnostics for thread 75: blocked places by semaphore: {60 - Expedição de documento: 0, 873 - Deliberação em Sessão: 0, F2 - RECURSO: 239 - Não-Provimento: 0, 132 - Recebimento: 0, source: 0, 417 - Inclusão em pauta: 0, F1 - CONHECIMENTO: 220 - Improcedência: 0, F1 - CONHECIMENTO: 26 - Distribuição: 0, 51 - Conclusão: 0}\n",
      "INFO:pm4py.simulation.montecarlo.variants.petri_semaph_fifo:1605539670.7778718 diagnostics for thread 76: blocked places by semaphore: {60 - Expedição de documento: 0, 873 - Deliberação em Sessão: 0, F2 - RECURSO: 239 - Não-Provimento: 0, 132 - Recebimento: 0, source: 0, 417 - Inclusão em pauta: 0, F1 - CONHECIMENTO: 220 - Improcedência: 0, F1 - CONHECIMENTO: 26 - Distribuição: 0, 51 - Conclusão: 0}\n",
      "INFO:pm4py.simulation.montecarlo.variants.petri_semaph_fifo:1605539670.780697 diagnostics for thread 78: blocked places by semaphore: {60 - Expedição de documento: 0, 873 - Deliberação em Sessão: 0, F2 - RECURSO: 239 - Não-Provimento: 0, 132 - Recebimento: 0, source: 0, 417 - Inclusão em pauta: 0, F1 - CONHECIMENTO: 220 - Improcedência: 0, F1 - CONHECIMENTO: 26 - Distribuição: 0, 51 - Conclusão: 0}\n",
      "INFO:pm4py.simulation.montecarlo.variants.petri_semaph_fifo:1605539670.785655 diagnostics for thread 77: blocked places by semaphore: {60 - Expedição de documento: 0, 873 - Deliberação em Sessão: 0, F2 - RECURSO: 239 - Não-Provimento: 0, 132 - Recebimento: 0, source: 0, 417 - Inclusão em pauta: 0, F1 - CONHECIMENTO: 220 - Improcedência: 0, F1 - CONHECIMENTO: 26 - Distribuição: 0, 51 - Conclusão: 0}\n",
      "INFO:pm4py.simulation.montecarlo.variants.petri_semaph_fifo:1605539670.7861023 diagnostics for thread 80: blocked places by semaphore: {60 - Expedição de documento: 0, 873 - Deliberação em Sessão: 0, F2 - RECURSO: 239 - Não-Provimento: 0, 132 - Recebimento: 0, source: 0, 417 - Inclusão em pauta: 0, F1 - CONHECIMENTO: 220 - Improcedência: 0, F1 - CONHECIMENTO: 26 - Distribuição: 0, 51 - Conclusão: 0}\n",
      "INFO:pm4py.simulation.montecarlo.variants.petri_semaph_fifo:1605539670.797259 diagnostics for thread 79: blocked places by semaphore: {60 - Expedição de documento: 0, 873 - Deliberação em Sessão: 0, F2 - RECURSO: 239 - Não-Provimento: 0, 132 - Recebimento: 0, source: 0, 417 - Inclusão em pauta: 0, F1 - CONHECIMENTO: 220 - Improcedência: 0, F1 - CONHECIMENTO: 26 - Distribuição: 0, 51 - Conclusão: 0}\n",
      "INFO:pm4py.simulation.montecarlo.variants.petri_semaph_fifo:1605539670.8005323 diagnostics for thread 82: blocked places by semaphore: {60 - Expedição de documento: 0, 873 - Deliberação em Sessão: 0, F2 - RECURSO: 239 - Não-Provimento: 0, 132 - Recebimento: 0, source: 0, 417 - Inclusão em pauta: 0, F1 - CONHECIMENTO: 220 - Improcedência: 0, F1 - CONHECIMENTO: 26 - Distribuição: 0, 51 - Conclusão: 0}\n",
      "INFO:pm4py.simulation.montecarlo.variants.petri_semaph_fifo:1605539670.8043635 diagnostics for thread 81: blocked places by semaphore: {60 - Expedição de documento: 0, 873 - Deliberação em Sessão: 0, F2 - RECURSO: 239 - Não-Provimento: 0, 132 - Recebimento: 0, source: 0, 417 - Inclusão em pauta: 0, F1 - CONHECIMENTO: 220 - Improcedência: 0, F1 - CONHECIMENTO: 26 - Distribuição: 0, 51 - Conclusão: 0}\n",
      "INFO:pm4py.simulation.montecarlo.variants.petri_semaph_fifo:1605539670.8310597 diagnostics for thread 83: blocked places by semaphore: {60 - Expedição de documento: 0, 873 - Deliberação em Sessão: 0, F2 - RECURSO: 239 - Não-Provimento: 0, 132 - Recebimento: 0, source: 0, 417 - Inclusão em pauta: 0, F1 - CONHECIMENTO: 220 - Improcedência: 0, F1 - CONHECIMENTO: 26 - Distribuição: 0, 51 - Conclusão: 0}\n"
     ]
    },
    {
     "name": "stderr",
     "output_type": "stream",
     "text": [
      "INFO:pm4py.simulation.montecarlo.variants.petri_semaph_fifo:1605539670.8430846 diagnostics for thread 84: blocked places by semaphore: {60 - Expedição de documento: 0, 873 - Deliberação em Sessão: 0, F2 - RECURSO: 239 - Não-Provimento: 0, 132 - Recebimento: 0, source: 0, 417 - Inclusão em pauta: 0, F1 - CONHECIMENTO: 220 - Improcedência: 0, F1 - CONHECIMENTO: 26 - Distribuição: 0, 51 - Conclusão: 0}\n",
      "INFO:pm4py.simulation.montecarlo.variants.petri_semaph_fifo:1605539670.8536804 diagnostics for thread 85: blocked places by semaphore: {60 - Expedição de documento: 0, 873 - Deliberação em Sessão: 0, F2 - RECURSO: 239 - Não-Provimento: 0, 132 - Recebimento: 0, source: 0, 417 - Inclusão em pauta: 0, F1 - CONHECIMENTO: 220 - Improcedência: 0, F1 - CONHECIMENTO: 26 - Distribuição: 0, 51 - Conclusão: 0}\n",
      "INFO:pm4py.simulation.montecarlo.variants.petri_semaph_fifo:1605539670.8574479 diagnostics for thread 86: blocked places by semaphore: {60 - Expedição de documento: 0, 873 - Deliberação em Sessão: 0, F2 - RECURSO: 239 - Não-Provimento: 0, 132 - Recebimento: 0, source: 0, 417 - Inclusão em pauta: 0, F1 - CONHECIMENTO: 220 - Improcedência: 0, F1 - CONHECIMENTO: 26 - Distribuição: 0, 51 - Conclusão: 0}\n",
      "INFO:pm4py.simulation.montecarlo.variants.petri_semaph_fifo:1605539670.8581953 diagnostics for thread 87: blocked places by semaphore: {60 - Expedição de documento: 0, 873 - Deliberação em Sessão: 0, F2 - RECURSO: 239 - Não-Provimento: 0, 132 - Recebimento: 0, source: 0, 417 - Inclusão em pauta: 0, F1 - CONHECIMENTO: 220 - Improcedência: 0, F1 - CONHECIMENTO: 26 - Distribuição: 0, 51 - Conclusão: 0}\n",
      "INFO:pm4py.simulation.montecarlo.variants.petri_semaph_fifo:1605539670.858514 diagnostics for thread 88: blocked places by semaphore: {60 - Expedição de documento: 0, 873 - Deliberação em Sessão: 0, F2 - RECURSO: 239 - Não-Provimento: 0, 132 - Recebimento: 0, source: 0, 417 - Inclusão em pauta: 0, F1 - CONHECIMENTO: 220 - Improcedência: 0, F1 - CONHECIMENTO: 26 - Distribuição: 0, 51 - Conclusão: 0}\n",
      "INFO:pm4py.simulation.montecarlo.variants.petri_semaph_fifo:1605539670.8782945 diagnostics for thread 89: blocked places by semaphore: {60 - Expedição de documento: 0, 873 - Deliberação em Sessão: 0, F2 - RECURSO: 239 - Não-Provimento: 0, 132 - Recebimento: 0, source: 0, 417 - Inclusão em pauta: 0, F1 - CONHECIMENTO: 220 - Improcedência: 0, F1 - CONHECIMENTO: 26 - Distribuição: 0, 51 - Conclusão: 0}\n",
      "INFO:pm4py.simulation.montecarlo.variants.petri_semaph_fifo:1605539670.895042 diagnostics for thread 90: blocked places by semaphore: {60 - Expedição de documento: 0, 873 - Deliberação em Sessão: 0, F2 - RECURSO: 239 - Não-Provimento: 0, 132 - Recebimento: 0, source: 0, 417 - Inclusão em pauta: 0, F1 - CONHECIMENTO: 220 - Improcedência: 0, F1 - CONHECIMENTO: 26 - Distribuição: 0, 51 - Conclusão: 0}\n",
      "INFO:pm4py.simulation.montecarlo.variants.petri_semaph_fifo:1605539670.895683 diagnostics for thread 91: blocked places by semaphore: {60 - Expedição de documento: 0, 873 - Deliberação em Sessão: 0, F2 - RECURSO: 239 - Não-Provimento: 0, 132 - Recebimento: 0, source: 0, 417 - Inclusão em pauta: 0, F1 - CONHECIMENTO: 220 - Improcedência: 0, F1 - CONHECIMENTO: 26 - Distribuição: 0, 51 - Conclusão: 0}\n",
      "INFO:pm4py.simulation.montecarlo.variants.petri_semaph_fifo:1605539670.8984952 diagnostics for thread 92: blocked places by semaphore: {60 - Expedição de documento: 0, 873 - Deliberação em Sessão: 0, F2 - RECURSO: 239 - Não-Provimento: 0, 132 - Recebimento: 0, source: 0, 417 - Inclusão em pauta: 0, F1 - CONHECIMENTO: 220 - Improcedência: 0, F1 - CONHECIMENTO: 26 - Distribuição: 0, 51 - Conclusão: 0}\n",
      "INFO:pm4py.simulation.montecarlo.variants.petri_semaph_fifo:1605539670.8990629 diagnostics for thread 93: blocked places by semaphore: {60 - Expedição de documento: 0, 873 - Deliberação em Sessão: 0, F2 - RECURSO: 239 - Não-Provimento: 0, 132 - Recebimento: 0, source: 0, 417 - Inclusão em pauta: 0, F1 - CONHECIMENTO: 220 - Improcedência: 0, F1 - CONHECIMENTO: 26 - Distribuição: 0, 51 - Conclusão: 0}\n",
      "INFO:pm4py.simulation.montecarlo.variants.petri_semaph_fifo:1605539670.9027658 diagnostics for thread 95: blocked places by semaphore: {60 - Expedição de documento: 0, 873 - Deliberação em Sessão: 0, F2 - RECURSO: 239 - Não-Provimento: 0, 132 - Recebimento: 0, source: 0, 417 - Inclusão em pauta: 0, F1 - CONHECIMENTO: 220 - Improcedência: 0, F1 - CONHECIMENTO: 26 - Distribuição: 0, 51 - Conclusão: 0}\n",
      "INFO:pm4py.simulation.montecarlo.variants.petri_semaph_fifo:1605539670.9103074 diagnostics for thread 94: blocked places by semaphore: {60 - Expedição de documento: 0, 873 - Deliberação em Sessão: 0, F2 - RECURSO: 239 - Não-Provimento: 0, 132 - Recebimento: 0, source: 0, 417 - Inclusão em pauta: 0, F1 - CONHECIMENTO: 220 - Improcedência: 0, F1 - CONHECIMENTO: 26 - Distribuição: 0, 51 - Conclusão: 0}\n",
      "INFO:pm4py.simulation.montecarlo.variants.petri_semaph_fifo:1605539670.931652 diagnostics for thread 96: blocked places by semaphore: {60 - Expedição de documento: 0, 873 - Deliberação em Sessão: 0, F2 - RECURSO: 239 - Não-Provimento: 0, 132 - Recebimento: 0, source: 0, 417 - Inclusão em pauta: 0, F1 - CONHECIMENTO: 220 - Improcedência: 0, F1 - CONHECIMENTO: 26 - Distribuição: 0, 51 - Conclusão: 0}\n",
      "INFO:pm4py.simulation.montecarlo.variants.petri_semaph_fifo:1605539670.9345806 diagnostics for thread 97: blocked places by semaphore: {60 - Expedição de documento: 0, 873 - Deliberação em Sessão: 0, F2 - RECURSO: 239 - Não-Provimento: 0, 132 - Recebimento: 0, source: 0, 417 - Inclusão em pauta: 0, F1 - CONHECIMENTO: 220 - Improcedência: 0, F1 - CONHECIMENTO: 26 - Distribuição: 0, 51 - Conclusão: 0}\n",
      "INFO:pm4py.simulation.montecarlo.variants.petri_semaph_fifo:1605539670.948375 diagnostics for thread 98: blocked places by semaphore: {60 - Expedição de documento: 0, 873 - Deliberação em Sessão: 0, F2 - RECURSO: 239 - Não-Provimento: 0, 132 - Recebimento: 0, source: 0, 417 - Inclusão em pauta: 0, F1 - CONHECIMENTO: 220 - Improcedência: 0, F1 - CONHECIMENTO: 26 - Distribuição: 0, 51 - Conclusão: 0}\n",
      "INFO:pm4py.simulation.montecarlo.variants.petri_semaph_fifo:1605539670.9563746 diagnostics for thread 99: blocked places by semaphore: {60 - Expedição de documento: 0, 873 - Deliberação em Sessão: 0, F2 - RECURSO: 239 - Não-Provimento: 0, 132 - Recebimento: 0, source: 0, 417 - Inclusão em pauta: 0, F1 - CONHECIMENTO: 220 - Improcedência: 0, F1 - CONHECIMENTO: 26 - Distribuição: 0, 51 - Conclusão: 0}\n",
      "INFO:pm4py.simulation.montecarlo.variants.petri_semaph_fifo:1605539698.1374395 terminated for timeout thread ID 1\n",
      "INFO:pm4py.simulation.montecarlo.variants.petri_semaph_fifo:1605539698.1504831 terminated for timeout thread ID 3\n",
      "INFO:pm4py.simulation.montecarlo.variants.petri_semaph_fifo:1605539698.1550612 terminated for timeout thread ID 2\n",
      "INFO:pm4py.simulation.montecarlo.variants.petri_semaph_fifo:1605539698.1614964 terminated for timeout thread ID 4\n",
      "INFO:pm4py.simulation.montecarlo.variants.petri_semaph_fifo:1605539698.1898792 terminated for timeout thread ID 7\n",
      "INFO:pm4py.simulation.montecarlo.variants.petri_semaph_fifo:1605539698.2653546 terminated for timeout thread ID 10\n",
      "INFO:pm4py.simulation.montecarlo.variants.petri_semaph_fifo:1605539698.2924201 terminated for timeout thread ID 11\n",
      "INFO:pm4py.simulation.montecarlo.variants.petri_semaph_fifo:1605539698.3344324 terminated for timeout thread ID 24\n",
      "INFO:pm4py.simulation.montecarlo.variants.petri_semaph_fifo:1605539698.3356183 terminated for timeout thread ID 18\n",
      "INFO:pm4py.simulation.montecarlo.variants.petri_semaph_fifo:1605539698.4064455 terminated for timeout thread ID 32\n",
      "INFO:pm4py.simulation.montecarlo.variants.petri_semaph_fifo:1605539698.4197378 terminated for timeout thread ID 33\n",
      "INFO:pm4py.simulation.montecarlo.variants.petri_semaph_fifo:1605539698.476783 terminated for timeout thread ID 40\n",
      "INFO:pm4py.simulation.montecarlo.variants.petri_semaph_fifo:1605539698.511443 terminated for timeout thread ID 44\n",
      "INFO:pm4py.simulation.montecarlo.variants.petri_semaph_fifo:1605539698.5189235 terminated for timeout thread ID 45\n",
      "INFO:pm4py.simulation.montecarlo.variants.petri_semaph_fifo:1605539698.5286062 terminated for timeout thread ID 46\n",
      "INFO:pm4py.simulation.montecarlo.variants.petri_semaph_fifo:1605539698.5408416 terminated for timeout thread ID 9\n"
     ]
    },
    {
     "name": "stderr",
     "output_type": "stream",
     "text": [
      "INFO:pm4py.simulation.montecarlo.variants.petri_semaph_fifo:1605539698.553888 terminated for timeout thread ID 15\n",
      "INFO:pm4py.simulation.montecarlo.variants.petri_semaph_fifo:1605539698.5563793 terminated for timeout thread ID 14\n",
      "INFO:pm4py.simulation.montecarlo.variants.petri_semaph_fifo:1605539698.5615015 terminated for timeout thread ID 50\n",
      "INFO:pm4py.simulation.montecarlo.variants.petri_semaph_fifo:1605539698.5770526 terminated for timeout thread ID 52\n",
      "INFO:pm4py.simulation.montecarlo.variants.petri_semaph_fifo:1605539698.585337 terminated for timeout thread ID 53\n",
      "INFO:pm4py.simulation.montecarlo.variants.petri_semaph_fifo:1605539698.5962863 terminated for timeout thread ID 54\n",
      "INFO:pm4py.simulation.montecarlo.variants.petri_semaph_fifo:1605539698.6097245 terminated for timeout thread ID 5\n",
      "INFO:pm4py.simulation.montecarlo.variants.petri_semaph_fifo:1605539698.641269 terminated for timeout thread ID 59\n",
      "INFO:pm4py.simulation.montecarlo.variants.petri_semaph_fifo:1605539698.6439269 terminated for timeout thread ID 6\n",
      "INFO:pm4py.simulation.montecarlo.variants.petri_semaph_fifo:1605539698.6488378 terminated for timeout thread ID 60\n",
      "INFO:pm4py.simulation.montecarlo.variants.petri_semaph_fifo:1605539698.6550834 terminated for timeout thread ID 61\n",
      "INFO:pm4py.simulation.montecarlo.variants.petri_semaph_fifo:1605539698.6614933 terminated for timeout thread ID 62\n",
      "INFO:pm4py.simulation.montecarlo.variants.petri_semaph_fifo:1605539698.6727033 terminated for timeout thread ID 63\n",
      "INFO:pm4py.simulation.montecarlo.variants.petri_semaph_fifo:1605539698.689256 terminated for timeout thread ID 65\n",
      "INFO:pm4py.simulation.montecarlo.variants.petri_semaph_fifo:1605539698.696624 terminated for timeout thread ID 66\n",
      "INFO:pm4py.simulation.montecarlo.variants.petri_semaph_fifo:1605539698.7106538 terminated for timeout thread ID 55\n",
      "INFO:pm4py.simulation.montecarlo.variants.petri_semaph_fifo:1605539698.7145793 terminated for timeout thread ID 68\n",
      "INFO:pm4py.simulation.montecarlo.variants.petri_semaph_fifo:1605539698.724572 terminated for timeout thread ID 69\n",
      "INFO:pm4py.simulation.montecarlo.variants.petri_semaph_fifo:1605539698.7343817 terminated for timeout thread ID 70\n",
      "INFO:pm4py.simulation.montecarlo.variants.petri_semaph_fifo:1605539698.7399518 terminated for timeout thread ID 23\n",
      "INFO:pm4py.simulation.montecarlo.variants.petri_semaph_fifo:1605539698.742633 terminated for timeout thread ID 71\n",
      "INFO:pm4py.simulation.montecarlo.variants.petri_semaph_fifo:1605539698.7434983 terminated for timeout thread ID 51\n",
      "INFO:pm4py.simulation.montecarlo.variants.petri_semaph_fifo:1605539698.759879 terminated for timeout thread ID 73\n",
      "INFO:pm4py.simulation.montecarlo.variants.petri_semaph_fifo:1605539698.7687628 terminated for timeout thread ID 35\n",
      "INFO:pm4py.simulation.montecarlo.variants.petri_semaph_fifo:1605539698.7707922 terminated for timeout thread ID 74\n",
      "INFO:pm4py.simulation.montecarlo.variants.petri_semaph_fifo:1605539698.775301 terminated for timeout thread ID 75\n",
      "INFO:pm4py.simulation.montecarlo.variants.petri_semaph_fifo:1605539698.7933772 terminated for timeout thread ID 77\n",
      "INFO:pm4py.simulation.montecarlo.variants.petri_semaph_fifo:1605539698.7973542 terminated for timeout thread ID 39\n",
      "INFO:pm4py.simulation.montecarlo.variants.petri_semaph_fifo:1605539698.8247097 terminated for timeout thread ID 81\n",
      "INFO:pm4py.simulation.montecarlo.variants.petri_semaph_fifo:1605539698.8312812 terminated for timeout thread ID 82\n",
      "INFO:pm4py.simulation.montecarlo.variants.petri_semaph_fifo:1605539698.8409696 terminated for timeout thread ID 37\n",
      "INFO:pm4py.simulation.montecarlo.variants.petri_semaph_fifo:1605539698.8578613 terminated for timeout thread ID 85\n",
      "INFO:pm4py.simulation.montecarlo.variants.petri_semaph_fifo:1605539698.8817036 terminated for timeout thread ID 88\n",
      "INFO:pm4py.simulation.montecarlo.variants.petri_semaph_fifo:1605539698.8889608 terminated for timeout thread ID 89\n",
      "INFO:pm4py.simulation.montecarlo.variants.petri_semaph_fifo:1605539698.897683 terminated for timeout thread ID 90\n",
      "INFO:pm4py.simulation.montecarlo.variants.petri_semaph_fifo:1605539698.9063504 terminated for timeout thread ID 91\n",
      "INFO:pm4py.simulation.montecarlo.variants.petri_semaph_fifo:1605539698.913738 terminated for timeout thread ID 92\n",
      "INFO:pm4py.simulation.montecarlo.variants.petri_semaph_fifo:1605539698.9209073 terminated for timeout thread ID 93\n",
      "INFO:pm4py.simulation.montecarlo.variants.petri_semaph_fifo:1605539698.9254627 terminated for timeout thread ID 34\n",
      "INFO:pm4py.simulation.montecarlo.variants.petri_semaph_fifo:1605539698.929002 terminated for timeout thread ID 94\n",
      "INFO:pm4py.simulation.montecarlo.variants.petri_semaph_fifo:1605539698.9453893 terminated for timeout thread ID 31\n",
      "INFO:pm4py.simulation.montecarlo.variants.petri_semaph_fifo:1605539698.9489677 terminated for timeout thread ID 97\n",
      "INFO:pm4py.simulation.montecarlo.variants.petri_semaph_fifo:1605539698.955537 terminated for timeout thread ID 98\n",
      "INFO:pm4py.simulation.montecarlo.variants.petri_semaph_fifo:1605539698.9699523 terminated for timeout thread ID 47\n",
      "INFO:pm4py.simulation.montecarlo.variants.petri_semaph_fifo:1605539699.0015078 terminated for timeout thread ID 49\n",
      "INFO:pm4py.simulation.montecarlo.variants.petri_semaph_fifo:1605539699.0787194 terminated for timeout thread ID 42\n",
      "INFO:pm4py.simulation.montecarlo.variants.petri_semaph_fifo:1605539699.080579 terminated for timeout thread ID 22\n",
      "INFO:pm4py.simulation.montecarlo.variants.petri_semaph_fifo:1605539699.1062362 terminated for timeout thread ID 36\n",
      "INFO:pm4py.simulation.montecarlo.variants.petri_semaph_fifo:1605539699.109737 terminated for timeout thread ID 12\n",
      "INFO:pm4py.simulation.montecarlo.variants.petri_semaph_fifo:1605539699.11437 terminated for timeout thread ID 27\n",
      "INFO:pm4py.simulation.montecarlo.variants.petri_semaph_fifo:1605539699.143476 terminated for timeout thread ID 13\n",
      "INFO:pm4py.simulation.montecarlo.variants.petri_semaph_fifo:1605539699.1735125 terminated for timeout thread ID 25\n",
      "INFO:pm4py.simulation.montecarlo.variants.petri_semaph_fifo:1605539699.1839623 terminated for timeout thread ID 29\n",
      "INFO:pm4py.simulation.montecarlo.variants.petri_semaph_fifo:1605539699.2110567 terminated for timeout thread ID 28\n",
      "INFO:pm4py.simulation.montecarlo.variants.petri_semaph_fifo:1605539699.235038 terminated for timeout thread ID 64\n",
      "INFO:pm4py.simulation.montecarlo.variants.petri_semaph_fifo:1605539699.2924056 terminated for timeout thread ID 58\n",
      "INFO:pm4py.simulation.montecarlo.variants.petri_semaph_fifo:1605539699.2955446 terminated for timeout thread ID 57\n",
      "INFO:pm4py.simulation.montecarlo.variants.petri_semaph_fifo:1605539699.3017561 terminated for timeout thread ID 56\n",
      "INFO:pm4py.simulation.montecarlo.variants.petri_semaph_fifo:1605539699.3443353 terminated for timeout thread ID 48\n",
      "INFO:pm4py.simulation.montecarlo.variants.petri_semaph_fifo:1605539699.3482194 terminated for timeout thread ID 38\n",
      "INFO:pm4py.simulation.montecarlo.variants.petri_semaph_fifo:1605539699.36695 terminated for timeout thread ID 21\n",
      "INFO:pm4py.simulation.montecarlo.variants.petri_semaph_fifo:1605539699.390681 terminated for timeout thread ID 41\n",
      "INFO:pm4py.simulation.montecarlo.variants.petri_semaph_fifo:1605539699.4332292 terminated for timeout thread ID 30\n",
      "INFO:pm4py.simulation.montecarlo.variants.petri_semaph_fifo:1605539699.5178068 terminated for timeout thread ID 67\n",
      "INFO:pm4py.simulation.montecarlo.variants.petri_semaph_fifo:1605539699.5200157 terminated for timeout thread ID 20\n",
      "INFO:pm4py.simulation.montecarlo.variants.petri_semaph_fifo:1605539699.6133776 terminated for timeout thread ID 72\n",
      "INFO:pm4py.simulation.montecarlo.variants.petri_semaph_fifo:1605539699.6551003 terminated for timeout thread ID 19\n",
      "INFO:pm4py.simulation.montecarlo.variants.petri_semaph_fifo:1605539699.728654 terminated for timeout thread ID 43\n",
      "INFO:pm4py.simulation.montecarlo.variants.petri_semaph_fifo:1605539699.7488525 terminated for timeout thread ID 79\n",
      "INFO:pm4py.simulation.montecarlo.variants.petri_semaph_fifo:1605539699.7762954 terminated for timeout thread ID 26\n",
      "INFO:pm4py.simulation.montecarlo.variants.petri_semaph_fifo:1605539699.7882345 terminated for timeout thread ID 87\n",
      "INFO:pm4py.simulation.montecarlo.variants.petri_semaph_fifo:1605539699.7931123 terminated for timeout thread ID 96\n"
     ]
    },
    {
     "name": "stderr",
     "output_type": "stream",
     "text": [
      "INFO:pm4py.simulation.montecarlo.variants.petri_semaph_fifo:1605539699.7996686 terminated for timeout thread ID 95\n",
      "INFO:pm4py.simulation.montecarlo.variants.petri_semaph_fifo:1605539699.8264177 terminated for timeout thread ID 99\n",
      "INFO:pm4py.simulation.montecarlo.variants.petri_semaph_fifo:1605539699.8614354 terminated for timeout thread ID 17\n",
      "INFO:pm4py.simulation.montecarlo.variants.petri_semaph_fifo:1605539699.8666902 terminated for timeout thread ID 16\n",
      "INFO:pm4py.simulation.montecarlo.variants.petri_semaph_fifo:1605539699.8759534 terminated for timeout thread ID 76\n",
      "INFO:pm4py.simulation.montecarlo.variants.petri_semaph_fifo:1605539699.8775523 terminated for timeout thread ID 86\n",
      "INFO:pm4py.simulation.montecarlo.variants.petri_semaph_fifo:1605539699.939273 terminated for timeout thread ID 78\n",
      "INFO:pm4py.simulation.montecarlo.variants.petri_semaph_fifo:1605539699.9701123 terminated for timeout thread ID 8\n",
      "INFO:pm4py.simulation.montecarlo.variants.petri_semaph_fifo:1605539700.3280058 terminated for timeout thread ID 84\n",
      "INFO:pm4py.simulation.montecarlo.variants.petri_semaph_fifo:1605539700.567632 terminated for timeout thread ID 80\n",
      "INFO:pm4py.simulation.montecarlo.variants.petri_semaph_fifo:1605539700.7260225 terminated for timeout thread ID 83\n",
      "INFO:pm4py.simulation.montecarlo.variants.petri_semaph_fifo:1605539700.7381244 ended the Monte carlo simulation.\n"
     ]
    }
   ],
   "source": [
    "from pm4py.simulation.montecarlo import simulator as montecarlo_simulation\n",
    "from pm4py.algo.conformance.tokenreplay.algorithm import Variants\n",
    "parameters = {}\n",
    "parameters[\n",
    "    montecarlo_simulation.Variants.PETRI_SEMAPH_FIFO.value.Parameters.TOKEN_REPLAY_VARIANT] = Variants.BACKWARDS\n",
    "parameters[montecarlo_simulation.Variants.PETRI_SEMAPH_FIFO.value.Parameters.PARAM_CASE_ARRIVAL_RATIO] = 4602\n",
    "simulated_log, res = montecarlo_simulation.apply(eventLog, net, im, fm, parameters=parameters)"
   ]
  },
  {
   "cell_type": "code",
   "execution_count": 30,
   "metadata": {},
   "outputs": [
    {
     "name": "stdout",
     "output_type": "stream",
     "text": [
      "417 - Inclusão em pauta_13\n",
      "\t 1584525989.0 0\n",
      "\t 1585243875.1 0\n",
      "\t 1585961761.2 0\n",
      "\t 1586679647.3 0\n",
      "\t 1587397533.4 0\n",
      "\t 1588115419.5 0\n",
      "\t 1588833305.6 0\n",
      "\t 1589551191.7 0\n",
      "\t 1590269077.8 0\n",
      "\t 1590986963.9 0\n"
     ]
    }
   ],
   "source": [
    "import random\n",
    "last_timestamp = max(event[\"time:timestamp\"] for trace in eventLog for event in trace).timestamp()\n",
    "first_timestamp = min(event[\"time:timestamp\"] for trace in eventLog for event in trace).timestamp()\n",
    "pick_trans = random.choice(list(res[\"transitions_interval_trees\"]))\n",
    "print(pick_trans)\n",
    "n_div = 10\n",
    "i = 0\n",
    "while i < n_div:\n",
    "    timestamp = first_timestamp + (last_timestamp - first_timestamp)/n_div * i\n",
    "    print(\"\\t\", timestamp, len(res[\"transitions_interval_trees\"][pick_trans][timestamp]))\n",
    "    i = i + 1"
   ]
  },
  {
   "cell_type": "code",
   "execution_count": 42,
   "metadata": {},
   "outputs": [],
   "source": [
    "from pm4py.algo.filtering.log.variants import variants_filter\n",
    "log = variants_filter.apply_auto_filter(eventLog)"
   ]
  },
  {
   "cell_type": "code",
   "execution_count": 49,
   "metadata": {},
   "outputs": [
    {
     "name": "stdout",
     "output_type": "stream",
     "text": [
      "{F0NÃOCLASSIFICADOTrânsitoemjulgado1, source1, sink1, F2RECURSOProvimento1, F0NÃOCLASSIFICADOBaixaDefinitiva1, F1CONHECIMENTODistribuição1}\n"
     ]
    }
   ],
   "source": [
    "from pm4py.objects.stochastic_petri import ctmc\n",
    "reach_graph, tang_reach_graph, stochastic_map, q_matrix = ctmc.get_tangible_reachability_and_q_matrix_from_dfg_performance(dfg_perf, parameters={\"start_activities\": sa, \"end_activities\": ea})\n",
    "print(tang_reach_graph.states)"
   ]
  },
  {
   "cell_type": "code",
   "execution_count": 73,
   "metadata": {},
   "outputs": [
    {
     "name": "stdout",
     "output_type": "stream",
     "text": [
      "Counter({F2RECURSOProvimento1: 0.9894529915741901, F0NÃOCLASSIFICADOTrânsitoemjulgado1: 0.010544290457709472, sink1: 2.7179680375996663e-06, F0NÃOCLASSIFICADOBaixaDefinitiva1: 6.279953578547772e-14, source1: 8.640398952046265e-23, F1CONHECIMENTODistribuição1: 1.834116684260402e-23})\n"
     ]
    }
   ],
   "source": [
    "# pick the source state\n",
    "state = [x for x in tang_reach_graph.states if x.name == \"F2RECURSOProvimento1\"][0]\n",
    "\n",
    "# analyse the distribution over the states of the system starting from the source after 172800.0 seconds (2 days)\n",
    "transient_result = ctmc.transient_analysis_from_tangible_q_matrix_and_single_state(\n",
    "    tang_reach_graph, q_matrix, state, 86400.0)\n",
    "print(transient_result)"
   ]
  },
  {
   "cell_type": "code",
   "execution_count": 74,
   "metadata": {},
   "outputs": [
    {
     "name": "stdout",
     "output_type": "stream",
     "text": [
      "Counter({F0NÃOCLASSIFICADOTrânsitoemjulgado1: 0.9948674179473852, sink1: 0.005132582046689538, F0NÃOCLASSIFICADOBaixaDefinitiva1: 5.925217347269376e-12, F2RECURSOProvimento1: -3.670137984985936e-22, F1CONHECIMENTODistribuição1: -1.48826350574468e-20, source1: -1.1094696350024533e-19})\n"
     ]
    }
   ],
   "source": [
    "state = [x for x in tang_reach_graph.states if x.name == \"F0NÃOCLASSIFICADOTrânsitoemjulgado1\"][0]\n",
    "transient_result = ctmc.transient_analysis_from_tangible_q_matrix_and_single_state(\n",
    "    tang_reach_graph, q_matrix, state, 864000.0)\n",
    "print(transient_result)"
   ]
  },
  {
   "cell_type": "code",
   "execution_count": 32,
   "metadata": {},
   "outputs": [
    {
     "name": "stdout",
     "output_type": "stream",
     "text": [
      "num_cases: 44\n",
      "min_case_duration: 3635898.0\n",
      "max_case_duration: 7174175.0\n",
      "median_case_duration: 6255556.0\n",
      "case_arrival_ratio: 4602.0\n",
      "case_dispersion_ratio: 3153.0\n"
     ]
    }
   ],
   "source": [
    "#statistics \n",
    "from pm4py.statistics.traces.log import case_statistics\n",
    "all_case_durations = case_statistics.get_all_casedurations(eventLog, parameters={\n",
    "    case_statistics.Parameters.TIMESTAMP_KEY: \"time:timestamp\"})\n",
    "min_case_duration = min(all_case_durations)\n",
    "max_case_duration = max(all_case_durations)\n",
    "\n",
    "# (quantidade de casos no event log)\n",
    "print(\"num_cases: \" + str(len(all_case_durations)))\n",
    "# (duração do caso mais rápido)\n",
    "print(\"min_case_duration: \" + str(min_case_duration))\n",
    "# (duração do caso mais demorado)\n",
    "print(\"max_case_duration: \" + str(max_case_duration))\n",
    "\n",
    "from pm4py.statistics.traces.log import case_statistics\n",
    "median_case_duration = case_statistics.get_median_caseduration(eventLog, parameters={\n",
    "    case_statistics.Parameters.TIMESTAMP_KEY: \"time:timestamp\"\n",
    "})\n",
    "# (média de duração dos casos)\n",
    "print(\"median_case_duration: \" + str(median_case_duration))\n",
    "\n",
    "# razão de chegada de casos\n",
    "from pm4py.statistics.traces.log import case_arrival\n",
    "case_arrival_ratio = case_arrival.get_case_arrival_avg(eventLog, parameters={\n",
    "    case_arrival.Parameters.TIMESTAMP_KEY: \"time:timestamp\"})\n",
    "# (distância média entre a chegada de dois casos consecutivos)\n",
    "print(\"case_arrival_ratio: \" + str(case_arrival_ratio))\n",
    "\n",
    "case_dispersion_ratio = case_arrival.get_case_dispersion_avg(eventLog, parameters={\n",
    "    case_arrival.Parameters.TIMESTAMP_KEY: \"time:timestamp\"})\n",
    "# (distância média entre a finalização de dois casos consecutivos)\n",
    "print(\"case_dispersion_ratio: \" + str(case_dispersion_ratio))"
   ]
  },
  {
   "cell_type": "code",
   "execution_count": 101,
   "metadata": {},
   "outputs": [
    {
     "data": {
      "image/png": "[encoded data removed]",
      "text/plain": [
       "<IPython.core.display.Image object>"
      ]
     },
     "metadata": {},
     "output_type": "display_data"
    },
    {
     "data": {
      "image/png": "[encoded data removed]",
      "text/plain": [
       "<IPython.core.display.Image object>"
      ]
     },
     "metadata": {},
     "output_type": "display_data"
    }
   ],
   "source": [
    "from pm4py.util import constants\n",
    "from pm4py.statistics.traces.log import case_statistics\n",
    "x, y = case_statistics.get_kde_caseduration(eventLog, parameters={constants.PARAMETER_CONSTANT_TIMESTAMP_KEY: \"time:timestamp\"})\n",
    "\n",
    "from pm4py.visualization.graphs import visualizer as graphs_visualizer\n",
    "\n",
    "gviz = graphs_visualizer.apply_plot(x, y, variant=graphs_visualizer.Variants.CASES)\n",
    "graphs_visualizer.view(gviz)\n",
    "\n",
    "gviz = graphs_visualizer.apply_semilogx(x, y, variant=graphs_visualizer.Variants.CASES)\n",
    "graphs_visualizer.view(gviz)"
   ]
  },
  {
   "cell_type": "code",
   "execution_count": 33,
   "metadata": {},
   "outputs": [
    {
     "data": {
      "image/png": "[encoded data removed]",
      "text/plain": [
       "<IPython.core.display.Image object>"
      ]
     },
     "metadata": {},
     "output_type": "display_data"
    }
   ],
   "source": [
    "from pm4py.algo.filtering.log.attributes import attributes_filter\n",
    "\n",
    "x, y = attributes_filter.get_kde_date_attribute(eventLog, attribute=\"time:timestamp\")\n",
    "\n",
    "from pm4py.visualization.graphs import visualizer as graphs_visualizer\n",
    "\n",
    "gviz = graphs_visualizer.apply_plot(x, y, variant=graphs_visualizer.Variants.DATES)\n",
    "graphs_visualizer.view(gviz)"
   ]
  }
 ],
 "metadata": {
  "kernelspec": {
   "display_name": "Python 3",
   "language": "python",
   "name": "python3"
  },
  "language_info": {
   "codemirror_mode": {
    "name": "ipython",
    "version": 3
   },
   "file_extension": ".py",
   "mimetype": "text/x-python",
   "name": "python",
   "nbconvert_exporter": "python",
   "pygments_lexer": "ipython3",
   "version": "3.8.5"
  }
 },
 "nbformat": 4,
 "nbformat_minor": 4
}
