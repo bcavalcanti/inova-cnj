{
 "cells": [
  {
   "cell_type": "code",
   "execution_count": null,
   "metadata": {},
   "outputs": [],
   "source": [
    "from pyspark import SparkConf, SparkContext\n",
    "from pyspark.sql import SparkSession\n",
    "import collections\n",
    "import os\n",
    "os.environ['PYSPARK_SUBMIT_ARGS'] = '--jars file:///home/jovyan/jdbc/postgresql-42.2.8.jar pyspark-shell'"
   ]
  },
  {
   "cell_type": "code",
   "execution_count": null,
   "metadata": {},
   "outputs": [],
   "source": [
    "conf = SparkConf()  # create the configuration\n",
    "\n",
    "spark = SparkSession \\\n",
    "    .builder \\\n",
    "    .config(conf=conf) \\\n",
    "    .appName(\"Lista-Q-03\") \\\n",
    "    .getOrCreate()\n",
    "\n",
    "sc = spark.sparkContext"
   ]
  },
  {
   "cell_type": "code",
   "execution_count": 2,
   "metadata": {},
   "outputs": [],
   "source": [
    "# Le um aqruivo texto para um data frame, e define o schema dos dados\n",
    "dfReviews = spark.read.csv( \\\n",
    "    path='/home/jovyan/work/u.data', \\\n",
    "    sep='\\t', \\\n",
    "    schema='userId int, movieId int, rating int, timestamp bigint')"
   ]
  },
  {
   "cell_type": "code",
   "execution_count": 3,
   "metadata": {},
   "outputs": [
    {
     "name": "stdout",
     "output_type": "stream",
     "text": [
      "root\n",
      " |-- userId: integer (nullable = true)\n",
      " |-- movieId: integer (nullable = true)\n",
      " |-- rating: integer (nullable = true)\n",
      " |-- timestamp: long (nullable = true)\n",
      "\n"
     ]
    },
    {
     "data": {
      "text/plain": [
       "100000"
      ]
     },
     "execution_count": 3,
     "metadata": {},
     "output_type": "execute_result"
    }
   ],
   "source": [
    "# imprime o schema definifo\n",
    "dfReviews.printSchema()\n",
    "# imprime a quantidade de registros no dataframe\n",
    "dfReviews.count()"
   ]
  },
  {
   "cell_type": "code",
   "execution_count": 4,
   "metadata": {},
   "outputs": [],
   "source": [
    "# cria uma view temporaria a partir do data frame\n",
    "dfReviews.createOrReplaceTempView(\"reviews\")"
   ]
  },
  {
   "cell_type": "code",
   "execution_count": 22,
   "metadata": {},
   "outputs": [],
   "source": [
    "# What is the average rating of our top-10 movies?\n",
    "dfSqlReviews = spark.sql(\"select movieId, sum(rating) as sumRatings, count(movieId) as amountRatings, sum(rating) / count(movieId) as average from reviews group by movieId order by sumRatings desc limit 10\")"
   ]
  },
  {
   "cell_type": "code",
   "execution_count": 23,
   "metadata": {},
   "outputs": [
    {
     "data": {
      "text/plain": [
       "[Row(movieId=50, sumRatings=2541, amountRatings=583, average=4.3584905660377355),\n",
       " Row(movieId=100, sumRatings=2111, amountRatings=508, average=4.155511811023622),\n",
       " Row(movieId=181, sumRatings=2032, amountRatings=507, average=4.007889546351085),\n",
       " Row(movieId=258, sumRatings=1936, amountRatings=509, average=3.8035363457760316),\n",
       " Row(movieId=174, sumRatings=1786, amountRatings=420, average=4.252380952380952),\n",
       " Row(movieId=127, sumRatings=1769, amountRatings=413, average=4.283292978208232),\n",
       " Row(movieId=286, sumRatings=1759, amountRatings=481, average=3.656964656964657),\n",
       " Row(movieId=1, sumRatings=1753, amountRatings=452, average=3.8783185840707963),\n",
       " Row(movieId=98, sumRatings=1673, amountRatings=390, average=4.28974358974359),\n",
       " Row(movieId=288, sumRatings=1645, amountRatings=478, average=3.4414225941422596)]"
      ]
     },
     "execution_count": 23,
     "metadata": {},
     "output_type": "execute_result"
    }
   ],
   "source": [
    "dfSqlReviews.take(10)"
   ]
  },
  {
   "cell_type": "code",
   "execution_count": 24,
   "metadata": {},
   "outputs": [],
   "source": [
    "# What is the average rating given by male reviewers? And what about females?\n",
    "dfUsers = spark.read.csv( \\\n",
    "    path='/home/jovyan/work/u.user', \\\n",
    "    sep='|', \\\n",
    "    schema='userId int, age int, gender string, occupation string, zipCode string')"
   ]
  },
  {
   "cell_type": "code",
   "execution_count": 25,
   "metadata": {},
   "outputs": [
    {
     "name": "stdout",
     "output_type": "stream",
     "text": [
      "root\n",
      " |-- userId: integer (nullable = true)\n",
      " |-- age: integer (nullable = true)\n",
      " |-- gender: string (nullable = true)\n",
      " |-- occupation: string (nullable = true)\n",
      " |-- zipCode: string (nullable = true)\n",
      "\n"
     ]
    }
   ],
   "source": [
    "dfUsers.printSchema()"
   ]
  },
  {
   "cell_type": "code",
   "execution_count": 26,
   "metadata": {},
   "outputs": [],
   "source": [
    "dfUsers.createOrReplaceTempView(\"users\")"
   ]
  },
  {
   "cell_type": "code",
   "execution_count": 29,
   "metadata": {},
   "outputs": [],
   "source": [
    "dfSqlUsersReviews = spark.sql(\"select u.gender, sum(r.rating) as sumRatings, count(r.*) as amountRatings, sum(r.rating) / count(r.*) as average from reviews r inner join users u on u.userId = r.userId group by u.gender order by gender desc\")"
   ]
  },
  {
   "cell_type": "code",
   "execution_count": 31,
   "metadata": {},
   "outputs": [
    {
     "data": {
      "text/plain": [
       "[Row(gender='M', sumRatings=262085, amountRatings=74260, average=3.5292889846485322),\n",
       " Row(gender='F', sumRatings=90901, amountRatings=25740, average=3.5315073815073816)]"
      ]
     },
     "execution_count": 31,
     "metadata": {},
     "output_type": "execute_result"
    }
   ],
   "source": [
    "dfSqlUsersReviews.take(2)"
   ]
  },
  {
   "cell_type": "code",
   "execution_count": 35,
   "metadata": {},
   "outputs": [],
   "source": [
    "# Which movie can be considered the \"best one\"? And the worst one?\n",
    "dfMovies = spark.read.csv( \\\n",
    "    path='/home/jovyan/work/u.item', \\\n",
    "    sep='|', \\\n",
    "    schema= 'movieId int, title string, releasedate string, videorelease string, imdbUrl string, '+\n",
    "            'unknown int, action int, adventure int, animation int, children int, comedy int, '+\n",
    "            'crime int, documentary int, drama int, fantasy int, noir int, horror int, musical int, ' +\n",
    "            'mystery int, romance int, scifi int, thriller int, war int, western int')"
   ]
  },
  {
   "cell_type": "code",
   "execution_count": 36,
   "metadata": {},
   "outputs": [],
   "source": [
    "dfMovies.createOrReplaceTempView(\"movies\")"
   ]
  },
  {
   "cell_type": "code",
   "execution_count": 37,
   "metadata": {},
   "outputs": [],
   "source": [
    "dfSqlMoviesRatings = spark.sql(\"select r.movieId, sum(r.rating) as sumRatings, count(r.*) as amountRatings, sum(r.rating) / count(r.*) as average from reviews r inner join movies m on m.movieId = r.movieId group by r.movieId\")"
   ]
  },
  {
   "cell_type": "code",
   "execution_count": 39,
   "metadata": {},
   "outputs": [],
   "source": [
    "dfSqlMoviesRatings.createOrReplaceTempView(\"movies_ratings\")"
   ]
  },
  {
   "cell_type": "code",
   "execution_count": 64,
   "metadata": {},
   "outputs": [],
   "source": [
    "dfBestMovie = spark.sql(\"select mr.movieId, m.title, max(mr.average) as maxAverage, sum(mr.amountRatings) as totalRatings from movies_ratings mr inner join movies m on m.movieId = mr.movieId group by mr.movieId, m.title having totalRatings > 300 order by maxAverage desc, totalRatings desc\")"
   ]
  },
  {
   "cell_type": "code",
   "execution_count": 66,
   "metadata": {},
   "outputs": [
    {
     "data": {
      "text/plain": [
       "[Row(movieId=50, title='Star Wars (1977)', maxAverage=4.3584905660377355, totalRatings=583)]"
      ]
     },
     "execution_count": 66,
     "metadata": {},
     "output_type": "execute_result"
    }
   ],
   "source": [
    "dfBestMovie.take(1)"
   ]
  },
  {
   "cell_type": "code",
   "execution_count": 69,
   "metadata": {},
   "outputs": [],
   "source": [
    "dfWorstMovie = spark.sql(\"select mr.movieId, m.title, min(mr.average) as minAverage, sum(mr.amountRatings) as totalRatings from movies_ratings mr inner join movies m on m.movieId = mr.movieId group by mr.movieId, m.title having totalRatings > 300 order by minAverage asc, totalRatings asc\")"
   ]
  },
  {
   "cell_type": "code",
   "execution_count": 70,
   "metadata": {},
   "outputs": [
    {
     "data": {
      "text/plain": [
       "[Row(movieId=748, title='Saint, The (1997)', minAverage=3.1234177215189876, totalRatings=316)]"
      ]
     },
     "execution_count": 70,
     "metadata": {},
     "output_type": "execute_result"
    }
   ],
   "source": [
    "dfWorstMovie.take(1)"
   ]
  },
  {
   "cell_type": "code",
   "execution_count": 78,
   "metadata": {},
   "outputs": [],
   "source": [
    "# What is the name and age of the user that have done more evaluations?\n",
    "dfUsersCountReviews = spark.sql(\"select r.userId, u.age, count(r.userId) as amount from reviews r inner join users u on u.userId = r.userId group by r.userId, u.age order by amount desc\")"
   ]
  },
  {
   "cell_type": "code",
   "execution_count": 79,
   "metadata": {},
   "outputs": [
    {
     "data": {
      "text/plain": [
       "[Row(userId=405, age=22, amount=737)]"
      ]
     },
     "execution_count": 79,
     "metadata": {},
     "output_type": "execute_result"
    }
   ],
   "source": [
    "dfUsersCountReviews.take(1)"
   ]
  },
  {
   "cell_type": "code",
   "execution_count": 81,
   "metadata": {},
   "outputs": [],
   "source": [
    "dfUsersZeroReviews = spark.sql(\"select u.userId, u.age, count(r.userId) as amount from users u left join reviews r on r.userId = u.userId group by u.userId, u.age order by amount asc\")"
   ]
  },
  {
   "cell_type": "code",
   "execution_count": 82,
   "metadata": {},
   "outputs": [
    {
     "data": {
      "text/plain": [
       "[Row(userId=572, age=51, amount=20)]"
      ]
     },
     "execution_count": 82,
     "metadata": {},
     "output_type": "execute_result"
    }
   ],
   "source": [
    "dfUsersZeroReviews.take(1)"
   ]
  },
  {
   "cell_type": "code",
   "execution_count": null,
   "metadata": {},
   "outputs": [],
   "source": []
  }
 ],
 "metadata": {
  "kernelspec": {
   "display_name": "Python 3",
   "language": "python",
   "name": "python3"
  },
  "language_info": {
   "codemirror_mode": {
    "name": "ipython",
    "version": 3
   },
   "file_extension": ".py",
   "mimetype": "text/x-python",
   "name": "python",
   "nbconvert_exporter": "python",
   "pygments_lexer": "ipython3",
   "version": "3.8.5"
  }
 },
 "nbformat": 4,
 "nbformat_minor": 4
}
