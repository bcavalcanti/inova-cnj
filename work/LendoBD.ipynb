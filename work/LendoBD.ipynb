{
 "cells": [
  {
   "cell_type": "code",
   "execution_count": 1,
   "metadata": {},
   "outputs": [],
   "source": [
    "from pyspark import SparkConf, SparkContext\n",
    "from pyspark.sql import SparkSession\n",
    "import collections\n",
    "import os\n",
    "os.environ['PYSPARK_SUBMIT_ARGS'] = '--jars file:///home/jovyan/jdbc/postgresql-42.2.8.jar pyspark-shell'\n",
    "conf = SparkConf()  # create the configuration\n",
    "\n",
    "spark = SparkSession \\\n",
    "    .builder \\\n",
    "    .config(conf=conf) \\\n",
    "    .appName(\"LendoDB\") \\\n",
    "    .getOrCreate()\n",
    "\n",
    "sc = spark.sparkContext\n",
    "\n"
   ]
  },
  {
   "cell_type": "code",
   "execution_count": 7,
   "metadata": {},
   "outputs": [],
   "source": [
    "jdbcDF = spark.read \\\n",
    "    .format(\"jdbc\") \\\n",
    "    .option(\"url\", \"jdbc:postgresql://postgres:5432/dbcursospark\") \\\n",
    "    .option(\"dbtable\", \"account\") \\\n",
    "    .option(\"user\", \"cursospark\") \\\n",
    "    .option(\"password\", \"tjpe123\") \\\n",
    "    .option(\"driver\", \"org.postgresql.Driver\") \\\n",
    "    .load()"
   ]
  },
  {
   "cell_type": "code",
   "execution_count": 8,
   "metadata": {},
   "outputs": [
    {
     "name": "stdout",
     "output_type": "stream",
     "text": [
      "+------+--------------------+-----+--------------+-------------------+\n",
      "|userid|            username|genre|    occupation|               time|\n",
      "+------+--------------------+-----+--------------+-------------------+\n",
      "|     1|Fabio Nogueira de...|    M|SYSTEM ANALYST|2019-02-28 19:10:25|\n",
      "|     2|Andrea de Almeida...|    F|        DOCTOR|2019-01-25 19:10:25|\n",
      "|     3|Thiago Vasconcelo...|    M|       STUDENT|2019-02-28 19:10:25|\n",
      "|     4|            Hadautho|    M|       STUDENT|2019-02-28 19:10:25|\n",
      "+------+--------------------+-----+--------------+-------------------+\n",
      "\n"
     ]
    }
   ],
   "source": [
    "jdbcDF.show()"
   ]
  },
  {
   "cell_type": "code",
   "execution_count": 12,
   "metadata": {},
   "outputs": [
    {
     "name": "stdout",
     "output_type": "stream",
     "text": [
      "root\n",
      " |-- userid: integer (nullable = true)\n",
      " |-- username: string (nullable = true)\n",
      " |-- genre: string (nullable = true)\n",
      " |-- occupation: string (nullable = true)\n",
      " |-- time: timestamp (nullable = true)\n",
      "\n"
     ]
    }
   ],
   "source": [
    "jdbcDF.printSchema()"
   ]
  },
  {
   "cell_type": "code",
   "execution_count": 13,
   "metadata": {},
   "outputs": [
    {
     "name": "stdout",
     "output_type": "stream",
     "text": [
      "root\n",
      " |-- movieid: integer (nullable = true)\n",
      " |-- title: string (nullable = true)\n",
      " |-- releasedate: string (nullable = true)\n",
      " |-- videorelease: string (nullable = true)\n",
      " |-- imdbUrl: string (nullable = true)\n",
      " |-- unknown: integer (nullable = true)\n",
      " |-- action: integer (nullable = true)\n",
      " |-- adventure: integer (nullable = true)\n",
      " |-- animation: integer (nullable = true)\n",
      " |-- children: integer (nullable = true)\n",
      " |-- comedy: integer (nullable = true)\n",
      " |-- crime: integer (nullable = true)\n",
      " |-- documentary: integer (nullable = true)\n",
      " |-- drama: integer (nullable = true)\n",
      " |-- fantasy: integer (nullable = true)\n",
      " |-- noir: integer (nullable = true)\n",
      " |-- horror: integer (nullable = true)\n",
      " |-- musical: integer (nullable = true)\n",
      " |-- mystery: integer (nullable = true)\n",
      " |-- romance: integer (nullable = true)\n",
      " |-- scifi: integer (nullable = true)\n",
      " |-- thriller: integer (nullable = true)\n",
      " |-- war: integer (nullable = true)\n",
      " |-- western: integer (nullable = true)\n",
      "\n"
     ]
    },
    {
     "data": {
      "text/plain": [
       "1682"
      ]
     },
     "execution_count": 13,
     "metadata": {},
     "output_type": "execute_result"
    }
   ],
   "source": [
    "dfMovies = spark.read.csv(path='/home/jovyan/work/u.item',sep='|',schema='movieid int, '+\n",
    "'title string, '+\n",
    "'releasedate string, '+\n",
    "'videorelease string, '+\n",
    "'imdbUrl string, '+\n",
    "'unknown int, '+\n",
    "'action int, '+\n",
    "'adventure int, '+\n",
    "'animation int, '+\n",
    "'children int, '+\n",
    "'comedy int, '+\n",
    "'crime int, ' +\n",
    "'documentary int, ' +\n",
    "'drama int, ' +\n",
    "'fantasy int, ' +\n",
    "'noir int, ' +\n",
    "'horror int, ' +\n",
    "'musical int, ' +\n",
    "'mystery int, ' +\n",
    "'romance int, ' +\n",
    "'scifi int, ' +\n",
    "'thriller int, ' +\n",
    "'war int, ' +\n",
    "'western int')\n",
    "dfMovies.printSchema()\n",
    "dfMovies.count()"
   ]
  },
  {
   "cell_type": "code",
   "execution_count": 14,
   "metadata": {},
   "outputs": [],
   "source": [
    "dfMovies.write \\\n",
    "    .format(\"jdbc\") \\\n",
    "    .option(\"url\", \"jdbc:postgresql://postgres:5432/dbcursospark\") \\\n",
    "    .option(\"dbtable\", \"movies\") \\\n",
    "    .option(\"user\", \"cursospark\") \\\n",
    "    .option(\"password\", \"tjpe123\") \\\n",
    "    .option(\"driver\", \"org.postgresql.Driver\") \\\n",
    "    .save()"
   ]
  },
  {
   "cell_type": "code",
   "execution_count": null,
   "metadata": {},
   "outputs": [],
   "source": [
    "spark.sql"
   ]
  }
 ],
 "metadata": {
  "kernelspec": {
   "display_name": "Python 3",
   "language": "python",
   "name": "python3"
  },
  "language_info": {
   "codemirror_mode": {
    "name": "ipython",
    "version": 3
   },
   "file_extension": ".py",
   "mimetype": "text/x-python",
   "name": "python",
   "nbconvert_exporter": "python",
   "pygments_lexer": "ipython3",
   "version": "3.8.5"
  }
 },
 "nbformat": 4,
 "nbformat_minor": 4
}
